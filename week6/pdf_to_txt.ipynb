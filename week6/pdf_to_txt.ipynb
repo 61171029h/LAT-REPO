{
 "cells": [
  {
   "cell_type": "code",
   "execution_count": 3,
   "id": "e3c9d3a7",
   "metadata": {},
   "outputs": [
    {
     "name": "stdout",
     "output_type": "stream",
     "text": [
      "Requirement already satisfied: aspose-words in c:\\users\\ntnua\\anaconda3\\lib\\site-packages (23.3.0)\n"
     ]
    }
   ],
   "source": [
    "!pip install aspose-words"
   ]
  },
  {
   "cell_type": "code",
   "execution_count": 4,
   "id": "eeae0889",
   "metadata": {
    "scrolled": true
   },
   "outputs": [
    {
     "ename": "RuntimeError",
     "evalue": "Proxy error(FileNotFoundException): Could not find file 'C:\\Users\\ntnua\\OneDrive\\文件\\GitHub\\LAT-REPO\\week6\\robot1.pdf'.",
     "output_type": "error",
     "traceback": [
      "\u001b[1;31m---------------------------------------------------------------------------\u001b[0m",
      "\u001b[1;31mRuntimeError\u001b[0m                              Traceback (most recent call last)",
      "Cell \u001b[1;32mIn[4], line 4\u001b[0m\n\u001b[0;32m      1\u001b[0m \u001b[38;5;28;01mimport\u001b[39;00m \u001b[38;5;21;01maspose\u001b[39;00m\u001b[38;5;21;01m.\u001b[39;00m\u001b[38;5;21;01mwords\u001b[39;00m \u001b[38;5;28;01mas\u001b[39;00m \u001b[38;5;21;01maw\u001b[39;00m\n\u001b[0;32m      3\u001b[0m \u001b[38;5;66;03m# 加載PDF文件\u001b[39;00m\n\u001b[1;32m----> 4\u001b[0m doc \u001b[38;5;241m=\u001b[39m \u001b[43maw\u001b[49m\u001b[38;5;241;43m.\u001b[39;49m\u001b[43mDocument\u001b[49m\u001b[43m(\u001b[49m\u001b[38;5;124;43m\"\u001b[39;49m\u001b[38;5;124;43mrobot1.pdf\u001b[39;49m\u001b[38;5;124;43m\"\u001b[39;49m\u001b[43m)\u001b[49m\n\u001b[0;32m      6\u001b[0m \u001b[38;5;66;03m# 將 PDF 轉換為 TXT\u001b[39;00m\n\u001b[0;32m      7\u001b[0m doc\u001b[38;5;241m.\u001b[39msave(\u001b[38;5;124m\"\u001b[39m\u001b[38;5;124mrobot1.txt\u001b[39m\u001b[38;5;124m\"\u001b[39m)\n",
      "\u001b[1;31mRuntimeError\u001b[0m: Proxy error(FileNotFoundException): Could not find file 'C:\\Users\\ntnua\\OneDrive\\文件\\GitHub\\LAT-REPO\\week6\\robot1.pdf'."
     ]
    }
   ],
   "source": [
    "import aspose.words as aw\n",
    "\n",
    "# 加載PDF文件\n",
    "doc = aw.Document(\"robot1.pdf\")\n",
    "\n",
    "# 將 PDF 轉換為 TXT\n",
    "doc.save(\"robot1.txt\")"
   ]
  },
  {
   "cell_type": "code",
   "execution_count": null,
   "id": "9345af02",
   "metadata": {},
   "outputs": [],
   "source": []
  }
 ],
 "metadata": {
  "kernelspec": {
   "display_name": "Python 3 (ipykernel)",
   "language": "python",
   "name": "python3"
  },
  "language_info": {
   "codemirror_mode": {
    "name": "ipython",
    "version": 3
   },
   "file_extension": ".py",
   "mimetype": "text/x-python",
   "name": "python",
   "nbconvert_exporter": "python",
   "pygments_lexer": "ipython3",
   "version": "3.9.13"
  }
 },
 "nbformat": 4,
 "nbformat_minor": 5
}
