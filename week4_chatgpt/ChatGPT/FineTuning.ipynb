{
 "cells": [
  {
   "cell_type": "code",
   "execution_count": 2,
   "id": "ba812a7c",
   "metadata": {},
   "outputs": [
    {
     "name": "stdout",
     "output_type": "stream",
     "text": [
      "Collecting openai\n",
      "  Downloading openai-0.27.2-py3-none-any.whl (70 kB)\n",
      "     -------------------------------------- 70.1/70.1 kB 348.0 kB/s eta 0:00:00\n",
      "Requirement already satisfied: tqdm in c:\\users\\ntnua\\anaconda3\\lib\\site-packages (from openai) (4.64.1)\n",
      "Requirement already satisfied: aiohttp in c:\\users\\ntnua\\anaconda3\\lib\\site-packages (from openai) (3.8.1)\n",
      "Requirement already satisfied: requests>=2.20 in c:\\users\\ntnua\\anaconda3\\lib\\site-packages (from openai) (2.28.1)\n",
      "Requirement already satisfied: certifi>=2017.4.17 in c:\\users\\ntnua\\anaconda3\\lib\\site-packages (from requests>=2.20->openai) (2022.6.15)\n",
      "Requirement already satisfied: urllib3<1.27,>=1.21.1 in c:\\users\\ntnua\\anaconda3\\lib\\site-packages (from requests>=2.20->openai) (1.26.11)\n",
      "Requirement already satisfied: charset-normalizer<3,>=2 in c:\\users\\ntnua\\anaconda3\\lib\\site-packages (from requests>=2.20->openai) (2.0.4)\n",
      "Requirement already satisfied: idna<4,>=2.5 in c:\\users\\ntnua\\anaconda3\\lib\\site-packages (from requests>=2.20->openai) (3.3)\n",
      "Requirement already satisfied: async-timeout<5.0,>=4.0.0a3 in c:\\users\\ntnua\\anaconda3\\lib\\site-packages (from aiohttp->openai) (4.0.2)\n",
      "Requirement already satisfied: multidict<7.0,>=4.5 in c:\\users\\ntnua\\anaconda3\\lib\\site-packages (from aiohttp->openai) (6.0.2)\n",
      "Requirement already satisfied: frozenlist>=1.1.1 in c:\\users\\ntnua\\anaconda3\\lib\\site-packages (from aiohttp->openai) (1.2.0)\n",
      "Requirement already satisfied: yarl<2.0,>=1.0 in c:\\users\\ntnua\\anaconda3\\lib\\site-packages (from aiohttp->openai) (1.8.1)\n",
      "Requirement already satisfied: attrs>=17.3.0 in c:\\users\\ntnua\\anaconda3\\lib\\site-packages (from aiohttp->openai) (21.4.0)\n",
      "Requirement already satisfied: aiosignal>=1.1.2 in c:\\users\\ntnua\\anaconda3\\lib\\site-packages (from aiohttp->openai) (1.2.0)\n",
      "Requirement already satisfied: colorama in c:\\users\\ntnua\\anaconda3\\lib\\site-packages (from tqdm->openai) (0.4.5)\n",
      "Installing collected packages: openai\n",
      "Successfully installed openai-0.27.2\n"
     ]
    }
   ],
   "source": [
    "!pip install openai"
   ]
  },
  {
   "cell_type": "code",
   "execution_count": 3,
   "id": "495494c1",
   "metadata": {},
   "outputs": [
    {
     "name": "stdout",
     "output_type": "stream",
     "text": [
      "Requirement already satisfied: openai in c:\\users\\ntnua\\anaconda3\\lib\\site-packages (0.27.2)\n",
      "Requirement already satisfied: aiohttp in c:\\users\\ntnua\\anaconda3\\lib\\site-packages (from openai) (3.8.1)\n",
      "Requirement already satisfied: requests>=2.20 in c:\\users\\ntnua\\anaconda3\\lib\\site-packages (from openai) (2.28.1)\n",
      "Requirement already satisfied: tqdm in c:\\users\\ntnua\\anaconda3\\lib\\site-packages (from openai) (4.64.1)\n",
      "Requirement already satisfied: urllib3<1.27,>=1.21.1 in c:\\users\\ntnua\\anaconda3\\lib\\site-packages (from requests>=2.20->openai) (1.26.11)\n",
      "Requirement already satisfied: charset-normalizer<3,>=2 in c:\\users\\ntnua\\anaconda3\\lib\\site-packages (from requests>=2.20->openai) (2.0.4)\n",
      "Requirement already satisfied: certifi>=2017.4.17 in c:\\users\\ntnua\\anaconda3\\lib\\site-packages (from requests>=2.20->openai) (2022.6.15)\n",
      "Requirement already satisfied: idna<4,>=2.5 in c:\\users\\ntnua\\anaconda3\\lib\\site-packages (from requests>=2.20->openai) (3.3)\n",
      "Requirement already satisfied: yarl<2.0,>=1.0 in c:\\users\\ntnua\\anaconda3\\lib\\site-packages (from aiohttp->openai) (1.8.1)\n",
      "Requirement already satisfied: frozenlist>=1.1.1 in c:\\users\\ntnua\\anaconda3\\lib\\site-packages (from aiohttp->openai) (1.2.0)\n",
      "Requirement already satisfied: async-timeout<5.0,>=4.0.0a3 in c:\\users\\ntnua\\anaconda3\\lib\\site-packages (from aiohttp->openai) (4.0.2)\n",
      "Requirement already satisfied: attrs>=17.3.0 in c:\\users\\ntnua\\anaconda3\\lib\\site-packages (from aiohttp->openai) (21.4.0)\n",
      "Requirement already satisfied: multidict<7.0,>=4.5 in c:\\users\\ntnua\\anaconda3\\lib\\site-packages (from aiohttp->openai) (6.0.2)\n",
      "Requirement already satisfied: aiosignal>=1.1.2 in c:\\users\\ntnua\\anaconda3\\lib\\site-packages (from aiohttp->openai) (1.2.0)\n",
      "Requirement already satisfied: colorama in c:\\users\\ntnua\\anaconda3\\lib\\site-packages (from tqdm->openai) (0.4.5)\n"
     ]
    }
   ],
   "source": [
    "!pip install --upgrade openai"
   ]
  },
  {
   "cell_type": "code",
   "execution_count": 4,
   "id": "90d4fe2a",
   "metadata": {},
   "outputs": [],
   "source": [
    "import openai\n",
    "import json"
   ]
  },
  {
   "cell_type": "code",
   "execution_count": 5,
   "id": "f691d598",
   "metadata": {},
   "outputs": [],
   "source": [
    "with open(\"finetune.json\", \"r\") as f:\n",
    "    train_data = json.load(f)"
   ]
  },
  {
   "cell_type": "code",
   "execution_count": 6,
   "id": "55edf304",
   "metadata": {},
   "outputs": [
    {
     "data": {
      "text/plain": [
       "[{'prompt': 'What type of music do you like?',\n",
       "  'completion': 'I like to listen to pop music and classical music. How about you?'},\n",
       " {'prompt': 'What kind of exercise do you think is the healthiest?',\n",
       "  'completion': 'I think swimming and jogging are among the healthiest forms of exercise. How about you?'},\n",
       " {'prompt': 'What countries have you traveled to?',\n",
       "  'completion': 'I have traveled to countries such as France, Italy, Japan, and the United States. How about you?'},\n",
       " {'prompt': 'What are your hobbies and interests?',\n",
       "  'completion': 'I enjoy reading, traveling, and listening to music. How about you?'},\n",
       " {'prompt': 'What do you think is the best way to learn a foreign language?',\n",
       "  'completion': 'I think learning a foreign language requires listening, reading, speaking, and writing, as well as interacting with people who speak the language as their native tongue. How about you?'},\n",
       " {'prompt': \"What is a good movie you've seen recently?\",\n",
       "  'completion': 'I recently watched a classic movie called The Shawshank Redemption, which was very moving. How about you?'},\n",
       " {'prompt': 'What types of movies do you like?',\n",
       "  'completion': 'I like sci-fi, action, and thriller movies, among others. How about you?'},\n",
       " {'prompt': 'What do you think is the best method of education?',\n",
       "  'completion': 'I think inquiry-based and hands-on teaching are among the best methods of education. How about you?'},\n",
       " {'prompt': 'What is your favorite holiday?',\n",
       "  'completion': 'My favorite holiday is Christmas because I get to spend time with my family and friends in a warm atmosphere. How about you?'},\n",
       " {'prompt': 'What types of food do you like to eat?',\n",
       "  'completion': 'I like various types of food such as Chinese cuisine, Japanese food, and Italian pasta. How about you?'}]"
      ]
     },
     "execution_count": 6,
     "metadata": {},
     "output_type": "execute_result"
    }
   ],
   "source": [
    "train_data"
   ]
  },
  {
   "cell_type": "code",
   "execution_count": 7,
   "id": "ca8e8f64",
   "metadata": {},
   "outputs": [],
   "source": [
    "FINE_TUNED_MODEL = \"text-davinci-003\""
   ]
  },
  {
   "cell_type": "code",
   "execution_count": 8,
   "id": "462f9e83",
   "metadata": {},
   "outputs": [
    {
     "name": "stdout",
     "output_type": "stream",
     "text": [
      "Analyzing...\n",
      "\n",
      "- Your file contains 10 prompt-completion pairs. In general, we recommend having at least a few hundred examples. We've found that performance tends to linearly increase for every doubling of the number of examples\n",
      "- All prompts end with suffix `?`\n",
      "- All prompts start with prefix `What `\n",
      "- All completions end with suffix `. How about you?`. This suffix seems very long. Consider replacing with a shorter suffix, such as `\\n`\n",
      "- The completion should start with a whitespace character (` `). This tends to produce better results due to the tokenization we use. See https://platform.openai.com/docs/guides/fine-tuning/preparing-your-dataset for more details\n",
      "\n",
      "Based on the analysis we will perform the following actions:\n",
      "- [Recommended] Add a whitespace character to the beginning of the completion [Y/n]: Y\n",
      "\n",
      "\n",
      "Your data will be written to a new JSONL file. Proceed [Y/n]: Y\n",
      "\n",
      "Wrote modified file to `finetune_prepared.jsonl`\n",
      "Feel free to take a look!\n",
      "\n",
      "Now use that file when fine-tuning:\n",
      "> openai api fine_tunes.create -t \"finetune_prepared.jsonl\"\n",
      "\n",
      "After you’ve fine-tuned a model, remember that your prompt has to end with the indicator string `?` for the model to start generating completions, rather than continuing with the prompt. Make sure to include `stop=[\". How about you?\"]` so that the generated texts ends at the expected place.\n",
      "Once your model starts training, it'll approximately take 2.58 minutes to train a `curie` model, and less for `ada` and `babbage`. Queue will approximately take half an hour per job ahead of you.\n"
     ]
    }
   ],
   "source": [
    "!openai tools fine_tunes.prepare_data -f finetune.json -q"
   ]
  },
  {
   "cell_type": "code",
   "execution_count": 10,
   "id": "b7563f19",
   "metadata": {},
   "outputs": [
    {
     "name": "stderr",
     "output_type": "stream",
     "text": [
      "\u001b[91mError:\u001b[0m No API key provided. You can set your API key in code using 'openai.api_key = <API-KEY>', or you can set the environment variable OPENAI_API_KEY=<API-KEY>). If your API key is stored in a file, you can point the openai module at it with 'openai.api_key_path = <PATH>'. You can generate API keys in the OpenAI web interface. See https://onboard.openai.com for details, or email support@openai.com if you have any questions.\n"
     ]
    }
   ],
   "source": [
    "!openai api fine_tunes.create -t \"finetune_prepared (1).jsonl\" --batch_size 16"
   ]
  },
  {
   "cell_type": "code",
   "execution_count": 10,
   "id": "72c7f8d9",
   "metadata": {},
   "outputs": [
    {
     "name": "stderr",
     "output_type": "stream",
     "text": [
      "'openai' is not recognized as an internal or external command,\n",
      "operable program or batch file.\n"
     ]
    }
   ],
   "source": [
    "!openai api fine_tunes.follow -i ft-wtZMNV8B7WcifsTlSvmJjv2r"
   ]
  },
  {
   "cell_type": "code",
   "execution_count": 11,
   "id": "946699e8",
   "metadata": {},
   "outputs": [
    {
     "name": "stderr",
     "output_type": "stream",
     "text": [
      "'openai' is not recognized as an internal or external command,\n",
      "operable program or batch file.\n"
     ]
    }
   ],
   "source": [
    "!openai api fine_tunes.list"
   ]
  },
  {
   "cell_type": "markdown",
   "id": "545763ae",
   "metadata": {},
   "source": [
    "Using the fine-tuned models"
   ]
  },
  {
   "cell_type": "code",
   "execution_count": 12,
   "id": "ea0d3bca",
   "metadata": {},
   "outputs": [],
   "source": [
    "ft_qa = \"curie:ft-pecu-2023-03-09-18-23-42\"\n",
    "def apply_ft_qa_answer(context, question, answering_model):\n",
    "    prompt = f\"{context}\\nQuestion: {question}\\nAnswer:\"\n",
    "    result = openai.Completion.create(model=answering_model, prompt=prompt, max_tokens=30, temperature=0, top_p=1, n=1, stop=['.','\\n'])\n",
    "    return result['choices'][0]['text']"
   ]
  },
  {
   "cell_type": "code",
   "execution_count": 13,
   "id": "b5d88baa",
   "metadata": {},
   "outputs": [],
   "source": [
    "context = 'Christmas is an annual festival commemorating the birth of Jesus Christ, observed primarily on December 25 as a religious and cultural celebration among billions of people around the world.'\n",
    "question = 'What is the most popular holiday?'"
   ]
  },
  {
   "cell_type": "code",
   "execution_count": 14,
   "id": "5dfa0046",
   "metadata": {},
   "outputs": [
    {
     "data": {
      "text/plain": [
       "' Christmas is the most popular holiday in the world'"
      ]
     },
     "execution_count": 14,
     "metadata": {},
     "output_type": "execute_result"
    }
   ],
   "source": [
    "apply_ft_qa_answer(context, question, ft_qa)"
   ]
  },
  {
   "cell_type": "code",
   "execution_count": null,
   "id": "13554e1f",
   "metadata": {},
   "outputs": [],
   "source": []
  }
 ],
 "metadata": {
  "kernelspec": {
   "display_name": "Python 3 (ipykernel)",
   "language": "python",
   "name": "python3"
  },
  "language_info": {
   "codemirror_mode": {
    "name": "ipython",
    "version": 3
   },
   "file_extension": ".py",
   "mimetype": "text/x-python",
   "name": "python",
   "nbconvert_exporter": "python",
   "pygments_lexer": "ipython3",
   "version": "3.9.13"
  },
  "vscode": {
   "interpreter": {
    "hash": "eea38404bd05b3aee10716c789b3bab3f234d80fac3dd8ed1e36d8efa00088b4"
   }
  }
 },
 "nbformat": 4,
 "nbformat_minor": 5
}
