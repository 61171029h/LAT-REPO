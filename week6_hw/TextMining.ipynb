{
 "cells": [
  {
   "cell_type": "code",
   "execution_count": 260,
   "id": "98db756c",
   "metadata": {},
   "outputs": [],
   "source": [
    "import openai\n",
    "import pandas as pd"
   ]
  },
  {
   "cell_type": "markdown",
   "id": "bebe3d48",
   "metadata": {},
   "source": [
    "# ChatGPT"
   ]
  },
  {
   "cell_type": "code",
   "execution_count": 261,
   "id": "3adce0f1",
   "metadata": {},
   "outputs": [],
   "source": [
    "keyfile = open(\"key.txt\", \"r\")\n",
    "key = keyfile.readline()\n",
    "openai.api_key = key"
   ]
  },
  {
   "cell_type": "markdown",
   "id": "c0b7d394",
   "metadata": {},
   "source": [
    "# DATA"
   ]
  },
  {
   "cell_type": "code",
   "execution_count": 262,
   "id": "f92744a5",
   "metadata": {},
   "outputs": [],
   "source": [
    "with open('01.txt', 'r', encoding=\"utf-8-sig\") as fh:\n",
    "    tmp = fh.read()\n",
    "    itemlist = tmp.split(',')"
   ]
  },
  {
   "cell_type": "code",
   "execution_count": 263,
   "id": "671f93dd",
   "metadata": {},
   "outputs": [],
   "source": [
    "itemlist = str(itemlist)"
   ]
  },
  {
   "cell_type": "code",
   "execution_count": 264,
   "id": "0c6fcb13",
   "metadata": {},
   "outputs": [],
   "source": [
    "data = [itemlist[0:3200], itemlist[3201:6400], \n",
    "        itemlist[6401:9600], itemlist[9601:12800], itemlist[12801:16000]]"
   ]
  },
  {
   "cell_type": "code",
   "execution_count": 265,
   "id": "90f4e1f5",
   "metadata": {},
   "outputs": [
    {
     "data": {
      "text/plain": [
       "\"['Blockchain in education management: present and future applications \\\\nPreeti Bhaskar \\\\nUniversity of Technology and Applied Sciences', ' Ibra', ' Oman and ICFAI Business School', ' ICFAI University', ' Dehradun', ' India \\\\n\\\\nChandan Kumar Tiwari \\\\nSymbiosis Centre for Management Studies', ' Noida', ' India and Symbiosis International (Deemed University)', ' Pune', ' India', ' and \\\\n\\\\nAmit Joshi \\\\nICFAI Business School', ' ICFAI University', ' Dehradun', ' India \\\\nAbstract \\\\nPurpose – This paper aims to provide a systematic literature review on blockchain technology in education to offer a detailed understanding of the present scenario in terms of bene.ts', ' barriers', ' present blockchain technology application and future areas where blockchain technology can be implemented in the other .elds of education. \\\\nDesign/methodology/approach – A bibliometric analysis is conducted on for data in the publications', ' journals', ' authors and citations were collected', ' and examined by applying bibliometric measures. The data was collected from SCOPUS database on the topic “Blockchain Technology in Education”. The following research questions guided this systematic literature review (SLR: How blockchain technology has been de.ned in educational settings? How were the technology examined (i.e. the methodology)? What were the results of using this technology in an education system? \\\\nFindings – The study identi.es the bene.ts', ' barriers and present application of blockchain technology in education. The analysis shows that blockchain technology in education is still a young discipline', ' but has a lot of potential to bene.ts the educational sector at large. \\\\nPractical implications – This research provides a groundwork for education institutions', ' the policymakers and researchers to explore other areas where blockchain technology can be implemented', ' though this research has also suggested some prospective uses of blockchain technology in different functions of an education system', ' more application can be brought into the education system to exploit the potential of blockchain technology. \\\\nOriginality/value – The paper discusses the application of blockchain technology in education with the help of bibliometric analysis. This is one of the .rst known studies to review the blockchain technology by identifying its bene.ts', ' barriers', ' present blockchain technology application. Based on the analysis', ' future application areas are also identi.ed. \\\\nKeywords Systematic review', ' Education', ' Blockchain technology', ' Blockchain application \\\\nPaper type Literature review \\\\n1. Introduction \\\\nBlockchain was .rst used to a peer-to-peer ledger for record-keeping of the transactions of Bitcoin cryptocurrency. A blockchain transaction in the public ledger contains a veri.able record and once the information entered', ' it cannot be altered or erased in the future. The \\\\nBlockchain in education management \\\\nReceived 4 July 2020 Revised 19 September 2020 Accepted 10 October 2020 \\\\n\\\\nInteractive Technology and Smart Education Vol. 18 No. 1', ' 2021 pp. 1-17 © Emerald Publishing Limited 1741-5659 DOI 10.1108/ITSE-07-2020-0102 \\\\n\\\\nBlockchain techno\""
      ]
     },
     "execution_count": 265,
     "metadata": {},
     "output_type": "execute_result"
    }
   ],
   "source": [
    "data[0]"
   ]
  },
  {
   "cell_type": "code",
   "execution_count": 266,
   "id": "bb7c5fca",
   "metadata": {},
   "outputs": [],
   "source": [
    "def chatgptfn(sub_list):\n",
    "    result = ''\n",
    "    response = openai.ChatCompletion.create(\n",
    "        model=\"gpt-3.5-turbo\",\n",
    "        messages=[\n",
    "            {\"role\": \"system\", \"content\": \"You are an assistant\"},\n",
    "            {\"role\": \"user\", \"content\": f\"{sub_list} :give me a summary\"}\n",
    "        ]\n",
    "    )\n",
    "    for choice in response.choices:\n",
    "        result += choice.message.content\n",
    "    return result"
   ]
  },
  {
   "cell_type": "markdown",
   "id": "0a041ae8",
   "metadata": {},
   "source": [
    "for i in range(0,4):\n",
    "    data[i]=chatgptfn(data[i])"
   ]
  },
  {
   "cell_type": "code",
   "execution_count": 269,
   "id": "de745a72",
   "metadata": {},
   "outputs": [],
   "source": [
    "data[0]=chatgptfn(data[0])\n",
    "data[1]=chatgptfn(data[1])\n",
    "data[2]=chatgptfn(data[2])\n",
    "data[3]=chatgptfn(data[3])"
   ]
  },
  {
   "cell_type": "code",
   "execution_count": 270,
   "id": "96677f7e",
   "metadata": {},
   "outputs": [],
   "source": [
    "data1=''\n",
    "for i in range(0,3):\n",
    "    data1=data1+data[i]"
   ]
  },
  {
   "cell_type": "code",
   "execution_count": 271,
   "id": "24d64247",
   "metadata": {},
   "outputs": [
    {
     "data": {
      "text/plain": [
       "\"The article is a literature review that explores the potential applications of blockchain technology in education management. It details the benefits, barriers, and current uses of the technology in education, while also highlighting its potential to significantly benefit the educational sector. The paper outlines potential uses of blockchain technology in various aspects of the education system and serves as a foundation for further exploration by institutions, policymakers, and researchers. As one of the first known studies examining blockchain technology in education, it provides a comprehensive overview of the topic.Blockchain is a secure and decentralized network that eliminates the need for a third-party intermediary in transactions and verification. The technology has evolved over four generations and is being used in various sectors. Blockchain offers high reliability, transparency, and immutability, and is estimated to control 10% of the world's GDP by 2025. In education, blockchain is being explored for its potential in creating a globally trusted and decentralized credit transfer and grading system. However, the use of blockchain in education is still in its early stages.This paper is a systematic literature review on the use of blockchain technology in education. It explores the potential benefits of blockchain technology in the management of teaching, learning, and student activities in schools, colleges, and universities. The study looks at how blockchain technology has been defined in educational settings, examined with a methodology, and the results of using this technology in an education system. The paper concludes with recommendations for policymakers, higher education institutions, academicians, managers, and researchers to explore the potential benefits of blockchain technology in education.\""
      ]
     },
     "execution_count": 271,
     "metadata": {},
     "output_type": "execute_result"
    }
   ],
   "source": [
    "data1"
   ]
  },
  {
   "cell_type": "markdown",
   "id": "fc9ef0ec",
   "metadata": {},
   "source": [
    "# DATA1"
   ]
  },
  {
   "cell_type": "code",
   "execution_count": 272,
   "id": "3717009c",
   "metadata": {},
   "outputs": [],
   "source": [
    "with open('robot1.txt', 'r', encoding=\"utf-8-sig\") as fh1:\n",
    "    tmp1 = fh1.read()\n",
    "    itemlist = tmp1.split(',')"
   ]
  },
  {
   "cell_type": "code",
   "execution_count": 273,
   "id": "8e4a78ff",
   "metadata": {},
   "outputs": [],
   "source": [
    "itemlist = str(itemlist)"
   ]
  },
  {
   "cell_type": "code",
   "execution_count": 274,
   "id": "fcfb069a",
   "metadata": {},
   "outputs": [],
   "source": [
    "data = [itemlist[0:3200], itemlist[3201:6400], \n",
    "        itemlist[6401:9600], itemlist[9601:12800], itemlist[12801:16000]]"
   ]
  },
  {
   "cell_type": "code",
   "execution_count": 275,
   "id": "245bd0fe",
   "metadata": {},
   "outputs": [
    {
     "data": {
      "text/plain": [
       "\"['                                        Annual Reviews in Control 31 (2007) 69–79\\\\n                                                                                                 www.elsevier.com/locate/arcontrol\\\\n\\\\n Present and future robot control development—An industrial perspective\\\\n                                                   Torgny Broga˚rdh\\\\n                                             ABB Robotics', ' SE-721 68 Va¨stera˚s', ' Sweden\\\\n                                         Received 5 October 2006; accepted 14 January 2007\\\\n                                                  Available online 4 May 2007\\\\n\\\\nAbstract\\\\n  Robot control is a key competence for robot manufacturers and a lot of development is made to increase robot performance', ' reduce robot cost\\\\nand introduce new functionalities. Examples of development areas that get big attention today are multi robot control', ' safe control', ' force control', '\\\\n3D vision', ' remote robot supervision and wireless communication. The application beneﬁts from these developments are discussed as well as the\\\\ntechnical challenges that the robot manufacturers meet. Model-based control is now a key technology for the control of industrial robots and models\\\\nand control schemes are continuously reﬁned to meet the requirements on higher performance even when the cost pressure leads to the design of\\\\nrobot mechanics that is more difﬁcult to control. Driving forces for the future development of robots can be found in', ' for example', ' new robot\\\\napplications in the automotive industry', ' especially for the ﬁnal assembly', ' in small and medium size enterprises', ' in foundries', ' in food industry and in\\\\nthe processing and assembly of large structures. Some scenarios on future robot control development are proposed. One scenario is that light-\\\\nweight robot concepts could have an impact on future car manufacturing and on future automation of small and medium size enterprises (SMEs).\\\\nSuch a development could result in modular robots and in control schemes using sensors in the robot arm structure', ' sensors that could also be used\\\\nfor the implementation of redundant safe control. Introducing highly modular robots will increase the need of robot installation support', ' making\\\\nPlug and Play functionality even more important. One possibility to obtain a highly modular robot program could be to use a recently developed\\\\nnew type of parallel kinematic robot structure with large work space in relation to the robot foot print. For further efﬁcient use of robots', ' the\\\\nscenario of adaptive robot performance is introduced. This means that the robot control is optimised with respect to the thermal and fatigue load on\\\\nthe robot for the speciﬁc program that the robot performs. The main conclusion of the presentation is that industrial robot development is far away\\\\nfrom its limits and that a lot of research and development is needed to obtain a more widely use of robot automation in industry.\\\\n# 2007 Elsevier Ltd. All rights reserved.\\\\n\\\\nKeywords: Industrial robots; Robot control; Control functions; Control applications\\\\n\\\\n\\\\n1. Introduction                                                 \""
      ]
     },
     "execution_count": 275,
     "metadata": {},
     "output_type": "execute_result"
    }
   ],
   "source": [
    "data[0]"
   ]
  },
  {
   "cell_type": "code",
   "execution_count": 276,
   "id": "5da2230f",
   "metadata": {},
   "outputs": [],
   "source": [
    "def chatgptfn(sub_list):\n",
    "    result = ''\n",
    "    response = openai.ChatCompletion.create(\n",
    "        model=\"gpt-3.5-turbo\",\n",
    "        messages=[\n",
    "            {\"role\": \"system\", \"content\": \"You are an assistant\"},\n",
    "            {\"role\": \"user\", \"content\": f\"{sub_list} :give me a summary\"}\n",
    "        ]\n",
    "    )\n",
    "    for choice in response.choices:\n",
    "        result += choice.message.content\n",
    "    return result"
   ]
  },
  {
   "cell_type": "code",
   "execution_count": 277,
   "id": "8b4ba065",
   "metadata": {},
   "outputs": [],
   "source": [
    "for i in range(0,4):\n",
    "    data[i]=chatgptfn(data[i])"
   ]
  },
  {
   "cell_type": "code",
   "execution_count": 278,
   "id": "86e96e47",
   "metadata": {},
   "outputs": [],
   "source": [
    "data2=''\n",
    "for i in range(0,3):\n",
    "    data2=data2+data[i]"
   ]
  },
  {
   "cell_type": "code",
   "execution_count": 279,
   "id": "5739430d",
   "metadata": {},
   "outputs": [
    {
     "data": {
      "text/plain": [
       "'The article discusses the current state of robot control development and the future developments in robot control from an industrial perspective. The author highlights that a lot of development is underway to improve robot performance, reduce costs, and introduce new functionalities such as multi-robot control, safe control, force control, 3D vision, remote robot supervision, and wireless communication. Model-based control is now a key technology for the control of industrial robots. The driving forces for future robot development are in new robot applications in various industries, especially for the final assembly, small and medium size enterprises, foundries, food industry, and in the processing and assembly of large structures. The author proposes several scenarios for future robot control development, including the introduction of highly modular robots, adaptive robot performance, and the use of new types of parallel kinematic robot structures. Overall, the article suggests that a lot of research and development is still needed to obtain a more widely used robot automation in industry.The development of industrial robotics is a multidisciplinary field that requires a fusion of different technologies. Robot control and motion are specific to the robot product and one of the most crucial skills needed for industrial robotics. Automotive industries are the dominant customers for industrial robotics, especially in car body assembly, press tending, painting and coating, and to some extent engine and powertrain assembly. Control point of view includes increasing requirements for robustness, stability, and accuracy. The cost pressure implies the need for developing less rigid mechanical structures with more complex robot vibration modes and larger dynamics variations that must be handled by the control system. Few robots are currently used for the final assembly, and new robot technology and flexible automation solutions are required to broaden its application.The development of industrial robots is constantly evolving, and one major trend is the adoption of multi-robot control to reduce production costs and increase productivity. However, this poses challenges in terms of robot programming, handling the complexity of the assembly tasks and the variability of product geometries. Additionally, multi-robot control requires high-performance model-based control solutions that can dynamically split tasks between robots and clusters of robots for optimal productivity. There is also a need to develop robots with high load capacity and accuracy to handle heavy loads efficiently. The future of industrial robot control will likely focus on improving robot programming, increasing intuitive and interactive capabilities, and developing high-load capacity robots with improved accuracy.'"
      ]
     },
     "execution_count": 279,
     "metadata": {},
     "output_type": "execute_result"
    }
   ],
   "source": [
    "data2"
   ]
  },
  {
   "cell_type": "markdown",
   "id": "926d1959",
   "metadata": {},
   "source": [
    "# DATA2"
   ]
  },
  {
   "cell_type": "code",
   "execution_count": 280,
   "id": "e5312a44",
   "metadata": {},
   "outputs": [],
   "source": [
    "with open('robot2.txt', 'r', encoding=\"utf-8-sig\") as fh1:\n",
    "    tmp1 = fh1.read()\n",
    "    itemlist = tmp1.split(',')"
   ]
  },
  {
   "cell_type": "code",
   "execution_count": 281,
   "id": "d89bd456",
   "metadata": {},
   "outputs": [],
   "source": [
    "itemlist = str(itemlist)"
   ]
  },
  {
   "cell_type": "code",
   "execution_count": 282,
   "id": "fccad140",
   "metadata": {},
   "outputs": [],
   "source": [
    "data = [itemlist[0:3200], itemlist[3201:6400], \n",
    "        itemlist[6401:9600], itemlist[9601:12800], itemlist[12801:16000]]"
   ]
  },
  {
   "cell_type": "code",
   "execution_count": 283,
   "id": "5efb4057",
   "metadata": {},
   "outputs": [
    {
     "data": {
      "text/plain": [
       "\"['         The e-puck', ' a Robot Designed for Education in Engineering\\\\n\\\\n       Francesco Mondada1', ' Michael Bonani1', ' Xavier Raemy2', ' James Pugh2', ' Christopher Cianci2', '\\\\n Adam Klaptocz3', ' St ephane´ Magnenat1', ' Jean-Christophe Zufferey3', ' Dario Floreano3', ' Alcherio Martinoli2\\\\n\\\\n  Abstract— Mobile robots have the potential to become the\\\\nideal tool to teach a broad range of engineering disciplines.\\\\nIndeed', ' mobile robots are getting increasingly complex and\\\\naccessible. They embed elements from diverse ﬁelds such as\\\\nmechanics', ' digital electronics', ' automatic control', ' signal pro-\\\\ncessing', ' embedded programming', ' and energy management.\\\\nMoreover', ' they are attractive for students which increases\\\\ntheir motivation to learn. However', ' the requirements of an\\\\neffective education tool bring new constraints to robotics. This\\\\narticle presents the e-puck robot design', ' which speciﬁcally\\\\ntargets engineering education at university level. Thanks to its\\\\nparticular design', ' the e-puck can be used in a large spectrum\\\\nof teaching activities', ' not strictly related to robotics. Through\\\\na systematic evaluation by the students', ' we show that the e-\\\\npuck ﬁts this purpose and is appreciated by 90 percent of a\\\\nlarge sample of students.\\\\n\\\\n                I. INTRODUCTION\\\\n                                                                   Fig. 1. The e-puck robot.\\\\n  Mobile robots are both fascinating objects and the result\\\\nof the fusion of multiple competences. This fascination\\\\nleads to the organization of plenty of robotics contests The Khepera II from K-Team is a redesign of the\\\\nworldwide annually [16]. From an engineering point of original Khepera robot [15]. With the same size of the\\\\nview', ' the design and control of mobile robots requires skills original Khepera', ' it is compatible with its extensions', '\\\\nin many disciplines such as mechanics', ' electronics', ' energy software', ' and scientiﬁc tools. The Khepera II is interesting\\\\nmanagement', ' computer science', ' signal processing', ' and because its size allows to use it on a desktop. It is expensive\\\\nautomatic control. The combination of these two aspects (around 1500 e for a basic conﬁguration) but is known for\\\\n(fascination and inter-disciplinarity) makes mobile robots being reliable and well supported.\\\\nan excellent educational platform that enables students to The Hemisson from K-Team is a cheap platform (225 e)\\\\naddress a broad range of engineering ﬁelds.         with a diameter of 120 mm. It only provides a limited\\\\n  This paper presents', ' for the ﬁrst time', ' the design ap-\\\\n                        1                           computational power and few sensors in its basic conﬁgu-\\\\nproach resulting in the e-puck ', ' an educational desktop mo- ration', ' but is extensible. It is a robust platform well suited\\\\n                        ´\\\\nbile robot developed at the Ecole Polytechnique Fed´ erale´ for beginners.\\\\nde Lausanne (EPFL) for a broad exploitation in teaching\\\\n                                                      The IdMind’s circular GT kit is a similar platform\\\\nactivities. The main objectives of this development were:\\\\n\""
      ]
     },
     "execution_count": 283,
     "metadata": {},
     "output_type": "execute_result"
    }
   ],
   "source": [
    "data[0]"
   ]
  },
  {
   "cell_type": "code",
   "execution_count": 284,
   "id": "9e77f0fa",
   "metadata": {},
   "outputs": [],
   "source": [
    "def chatgptfn(sub_list):\n",
    "    result = ''\n",
    "    response = openai.ChatCompletion.create(\n",
    "        model=\"gpt-3.5-turbo\",\n",
    "        messages=[\n",
    "            {\"role\": \"system\", \"content\": \"You are an assistant\"},\n",
    "            {\"role\": \"user\", \"content\": f\"{sub_list} :give me a summary\"}\n",
    "        ]\n",
    "    )\n",
    "    for choice in response.choices:\n",
    "        result += choice.message.content\n",
    "    return result"
   ]
  },
  {
   "cell_type": "code",
   "execution_count": 285,
   "id": "02fe81ed",
   "metadata": {},
   "outputs": [],
   "source": [
    "for i in range(0,4):\n",
    "    data[i]=chatgptfn(data[i])"
   ]
  },
  {
   "cell_type": "code",
   "execution_count": 286,
   "id": "19b3c853",
   "metadata": {},
   "outputs": [],
   "source": [
    "data3=''\n",
    "for i in range(0,3):\n",
    "    data3=data3+data[i]"
   ]
  },
  {
   "cell_type": "code",
   "execution_count": 287,
   "id": "d149560c",
   "metadata": {},
   "outputs": [
    {
     "data": {
      "text/plain": [
       "\"The e-puck is a robot designed for education in engineering, specifically targeting university-level education. It is a desktop mobile robot that can be used for a broad range of teaching activities, not strictly related to robotics. The e-puck was designed with the purpose of being an effective educational tool while bringing new constraints to robotics. Compared to other platforms like the Khepera II and Hemisson, the e-puck is affordable and well-suited for beginners. A systematic evaluation by the students shows that the e-puck fits the purpose of engineering education and is appreciated by 90% of a large sample of students.This passage discusses various mobile robots that are available for educational purposes. The robots include Hemisson, Thymio II, Bot'n Roll, and Lego Mindstorms, among others. The advantages and disadvantages of each robot are highlighted, based on factors such as computational power, flexibility, price, and sensor capabilities. The passage emphasizes the importance of using mobile robots in education for subjects such as signal processing, automatic control, and embedded programming. Additionally, it mentions the possibility of introducing mobile robots earlier in the curriculum and using them in larger classes. The passage concludes by acknowledging that different robots have different strengths and may be more suited for particular educational goals or student needs.The article discusses several robots that can be used in engineering education, with a focus on desktop-sized robots that offer a wide range of functionalities, are user-friendly, and low-cost. The robots reviewed include the Khepera II, Cye, Khepera III, ER1, and KHR-1. The article highlights the importance of a robot's size, functionalities, and cost as factors that affect its usefulness in engineering education. Additionally, the article emphasizes the need for user-friendly interfaces and open information sharing to enhance the learning experience.\""
      ]
     },
     "execution_count": 287,
     "metadata": {},
     "output_type": "execute_result"
    }
   ],
   "source": [
    "data3"
   ]
  },
  {
   "cell_type": "code",
   "execution_count": 288,
   "id": "4c912f7a",
   "metadata": {},
   "outputs": [],
   "source": [
    "paper=[data1,data2,data3]"
   ]
  },
  {
   "cell_type": "code",
   "execution_count": 289,
   "id": "775265fa",
   "metadata": {},
   "outputs": [],
   "source": [
    "import gensim\n",
    "from gensim import corpora\n",
    "from pprint import pprint"
   ]
  },
  {
   "cell_type": "code",
   "execution_count": 290,
   "id": "d905021c",
   "metadata": {},
   "outputs": [],
   "source": [
    "# 創建詞袋\n",
    "texts = [[word for word in document.lower().split()] for document in data]\n",
    "dictionary = corpora.Dictionary(texts)\n",
    "corpus = [dictionary.doc2bow(text) for text in texts]"
   ]
  },
  {
   "cell_type": "code",
   "execution_count": 291,
   "id": "911dea5e",
   "metadata": {},
   "outputs": [],
   "source": [
    "# 訓練 LDA 模型\n",
    "lda_model = gensim.models.ldamodel.LdaModel(corpus=corpus, id2word=dictionary, \n",
    "                                            num_topics=3, random_state=100, update_every=1, \n",
    "                                            chunksize=100, passes=10, alpha='auto', per_word_topics=True)"
   ]
  },
  {
   "cell_type": "code",
   "execution_count": 30,
   "id": "78fd25b6",
   "metadata": {},
   "outputs": [
    {
     "name": "stdout",
     "output_type": "stream",
     "text": [
      "Collecting pyLDAvis\n",
      "  Downloading pyLDAvis-3.4.0-py3-none-any.whl (2.6 MB)\n",
      "     ---------------------------------------- 2.6/2.6 MB 4.3 MB/s eta 0:00:00\n",
      "Requirement already satisfied: scikit-learn>=1.0.0 in c:\\users\\ntnua\\anaconda3\\lib\\site-packages (from pyLDAvis) (1.1.3)\n",
      "Requirement already satisfied: scipy in c:\\users\\ntnua\\anaconda3\\lib\\site-packages (from pyLDAvis) (1.7.3)\n",
      "Collecting funcy\n",
      "  Downloading funcy-2.0-py2.py3-none-any.whl (30 kB)\n",
      "Collecting joblib>=1.2.0\n",
      "  Downloading joblib-1.2.0-py3-none-any.whl (297 kB)\n",
      "     -------------------------------------- 298.0/298.0 kB 6.1 MB/s eta 0:00:00\n",
      "Requirement already satisfied: gensim in c:\\users\\ntnua\\anaconda3\\lib\\site-packages (from pyLDAvis) (4.1.2)\n",
      "Requirement already satisfied: setuptools in c:\\users\\ntnua\\anaconda3\\lib\\site-packages (from pyLDAvis) (63.4.1)\n",
      "Requirement already satisfied: jinja2 in c:\\users\\ntnua\\anaconda3\\lib\\site-packages (from pyLDAvis) (2.11.3)\n",
      "Requirement already satisfied: numexpr in c:\\users\\ntnua\\anaconda3\\lib\\site-packages (from pyLDAvis) (2.8.3)\n",
      "Requirement already satisfied: pandas>=1.3.4 in c:\\users\\ntnua\\anaconda3\\lib\\site-packages (from pyLDAvis) (1.4.4)\n",
      "Collecting numpy>=1.22.0\n",
      "  Downloading numpy-1.24.2-cp39-cp39-win_amd64.whl (14.9 MB)\n",
      "     ---------------------------------------- 14.9/14.9 MB 2.6 MB/s eta 0:00:00\n",
      "Requirement already satisfied: python-dateutil>=2.8.1 in c:\\users\\ntnua\\appdata\\roaming\\python\\python39\\site-packages (from pandas>=1.3.4->pyLDAvis) (2.8.2)\n",
      "Requirement already satisfied: pytz>=2020.1 in c:\\users\\ntnua\\anaconda3\\lib\\site-packages (from pandas>=1.3.4->pyLDAvis) (2022.1)\n",
      "Requirement already satisfied: threadpoolctl>=2.0.0 in c:\\users\\ntnua\\anaconda3\\lib\\site-packages (from scikit-learn>=1.0.0->pyLDAvis) (2.2.0)\n",
      "  Downloading numpy-1.22.4-cp39-cp39-win_amd64.whl (14.7 MB)\n",
      "     ---------------------------------------- 14.7/14.7 MB 2.1 MB/s eta 0:00:00\n",
      "Requirement already satisfied: smart-open>=1.8.1 in c:\\users\\ntnua\\anaconda3\\lib\\site-packages (from gensim->pyLDAvis) (5.2.1)\n",
      "Requirement already satisfied: MarkupSafe>=0.23 in c:\\users\\ntnua\\anaconda3\\lib\\site-packages (from jinja2->pyLDAvis) (2.0.1)\n",
      "Requirement already satisfied: packaging in c:\\users\\ntnua\\anaconda3\\lib\\site-packages (from numexpr->pyLDAvis) (21.3)\n",
      "Requirement already satisfied: six>=1.5 in c:\\users\\ntnua\\anaconda3\\lib\\site-packages (from python-dateutil>=2.8.1->pandas>=1.3.4->pyLDAvis) (1.16.0)\n",
      "Requirement already satisfied: pyparsing!=3.0.5,>=2.0.2 in c:\\users\\ntnua\\anaconda3\\lib\\site-packages (from packaging->numexpr->pyLDAvis) (3.0.9)\n",
      "Installing collected packages: funcy, numpy, joblib, pyLDAvis\n",
      "  Attempting uninstall: numpy\n",
      "    Found existing installation: numpy 1.21.5\n",
      "    Uninstalling numpy-1.21.5:\n",
      "      Successfully uninstalled numpy-1.21.5\n",
      "  Attempting uninstall: joblib\n",
      "    Found existing installation: joblib 1.1.0\n",
      "    Uninstalling joblib-1.1.0:\n",
      "      Successfully uninstalled joblib-1.1.0\n",
      "Successfully installed funcy-2.0 joblib-1.2.0 numpy-1.22.4 pyLDAvis-3.4.0\n"
     ]
    },
    {
     "name": "stderr",
     "output_type": "stream",
     "text": [
      "ERROR: pip's dependency resolver does not currently take into account all the packages that are installed. This behaviour is the source of the following dependency conflicts.\n",
      "tensorflow 2.9.1 requires libclang>=13.0.0, which is not installed.\n",
      "tensorflow 2.9.1 requires tensorflow-io-gcs-filesystem>=0.23.1, which is not installed.\n",
      "daal4py 2021.6.0 requires daal==2021.4.0, which is not installed.\n",
      "tensorflow 2.9.1 requires flatbuffers<2,>=1.12, but you have flatbuffers 2.0 which is incompatible.\n",
      "tensorflow 2.9.1 requires gast<=0.4.0,>=0.2.1, but you have gast 0.5.3 which is incompatible.\n",
      "tensorflow 2.9.1 requires protobuf<3.20,>=3.9.2, but you have protobuf 3.20.1 which is incompatible.\n",
      "numba 0.55.1 requires numpy<1.22,>=1.18, but you have numpy 1.22.4 which is incompatible.\n"
     ]
    }
   ],
   "source": [
    "!pip install pyLDAvis"
   ]
  },
  {
   "cell_type": "code",
   "execution_count": 292,
   "id": "9b194905",
   "metadata": {},
   "outputs": [
    {
     "name": "stderr",
     "output_type": "stream",
     "text": [
      "C:\\Users\\ntnua\\anaconda3\\lib\\site-packages\\pyLDAvis\\_prepare.py:243: FutureWarning: In a future version of pandas all arguments of DataFrame.drop except for the argument 'labels' will be keyword-only.\n",
      "  default_term_info = default_term_info.sort_values(\n"
     ]
    },
    {
     "data": {
      "text/html": [
       "\n",
       "<link rel=\"stylesheet\" type=\"text/css\" href=\"https://cdn.jsdelivr.net/gh/bmabey/pyLDAvis@3.4.0/pyLDAvis/js/ldavis.v1.0.0.css\">\n",
       "\n",
       "\n",
       "<div id=\"ldavis_el1975221713232411848240383362\" style=\"background-color:white;\"></div>\n",
       "<script type=\"text/javascript\">\n",
       "\n",
       "var ldavis_el1975221713232411848240383362_data = {\"mdsDat\": {\"x\": [-0.09077347154321277, 0.09827262184489019, -0.007499150301677384], \"y\": [-0.030270633989146152, -0.023832128816978514, 0.05410276280612471], \"topics\": [1, 2, 3], \"cluster\": [1, 1, 1], \"Freq\": [45.925465585617644, 38.121854369673216, 15.952680044709139]}, \"tinfo\": {\"Term\": [\"'\", \"for\", \"the\", \"robots\", \"is\", \"e-puck\", \"a\", \"to\", \"\\u2022\", \"of\", \"designed\", \"robotics.\", \"education\", \"purpose\", \"by\", \"that\", \"educational\", \"mobile\", \"and\", \"article\", \"related\", \"ii\", \"90%\", \"targeting\", \"an\", \"fits\", \"platforms\", \"evaluation\", \"not\", \"being\", \"robots\", \"article\", \"discusses\", \"using\", \"passage\", \"them\", \"functionalities,\", \"emphasizes\", \"include\", \"additionally,\", \"factors\", \"importance\", \"ii,\", \"use\", \"authors\", \"need\", \"available\", \"too\", \"institutions.\", \"or\", \"such\", \"their\", \"mobile\", \"educational\", \"for\", \"in\", \"iii,\", \"sharing\", \"low-cost.\", \"khr-1.\", \"and\", \"the\", \"are\", \"that\", \"robot\", \"of\", \"a\", \"as\", \"on\", \"khepera\", \"e-puck\", \"is\", \"be\", \"used\", \"engineering\", \"it\", \"different\", \"several\", \"'\", \"\\u2022\", \"10\", \"8x\", \"(figure\", \"ir\", \"set\", \"one\", \"battery\", \"devices\", \"low\", \"2',\", \"all\\\\n\", \"possibilities',\", \"\\ufb01elds\", \"cmos\\\\n\", \"body\", \"leds\\\\n\", \"motors\\\\n\", \"would\", \"off\", \"processors:\", \"tances\", \"sensors\", \"\\ufb01nd\", \"practice\", \"6acroname:\", \"power-\", \"www.festo-didactic.com\", \"radio\", \"this\", \"to\", \"of\", \"different\", \"on\", \"with\", \"can\", \"the\", \"a\", \"and\", \"as\", \"in\", \"e-puck\", \"is\", \"robot\", \"are\", \"be\", \"that\", \"designed\", \"related\", \"ii\", \"targeting\", \"90%\", \"an\", \"fits\", \"platforms\", \"evaluation\", \"not\", \"being\", \"tool\", \"well-suited\", \"systematic\", \"specifically\", \"appreciated\", \"affordable\", \"bringing\", \"students\", \"effective\", \"strictly\", \"shows\", \"desktop\", \"constraints\", \"compared\", \"engineering,\", \"was\", \"like\", \"new\", \"university-level\", \"purpose\", \"robotics.\", \"education\", \"is\", \"e-puck\", \"a\", \"the\", \"by\", \"of\", \"to\", \"for\", \"and\", \"robot\", \"that\", \"in\", \"educational\", \"with\", \"it\", \"used\", \"can\", \"engineering\", \"mobile\", \"broad\", \"teaching\", \"khepera\"], \"Freq\": [10.0, 7.0, 27.0, 7.0, 5.0, 5.0, 9.0, 6.0, 4.0, 14.0, 1.0, 2.0, 2.0, 2.0, 2.0, 5.0, 3.0, 3.0, 16.0, 3.0, 1.0, 1.0, 1.0, 1.0, 1.0, 1.0, 1.0, 1.0, 1.0, 1.0, 6.663544371579894, 3.0931967260873994, 2.380609088442807, 2.378073476640591, 2.378092785371396, 1.6667464041230549, 1.666535080791469, 1.6664563708957576, 1.66621232999253, 1.6660925890438585, 1.6658658455453101, 1.6658257531112084, 1.6656368225438196, 1.6650648013937268, 1.6649990980736271, 1.6649197177358739, 1.6649946731561511, 1.664314710837323, 1.6641512570675239, 1.664340321723321, 1.6647260940741924, 1.6633413630809883, 3.104505206095422, 3.098173283275525, 5.995868841787312, 7.385105205512393, 0.9528523431157448, 0.9528290787768932, 0.9528181505716112, 0.9528115802396013, 11.696933054353908, 18.196339805252002, 2.38195694512371, 3.8370232084060225, 3.118773285452917, 5.318166717170693, 3.8732737414311704, 2.3845802507449982, 2.385370836000729, 1.6774850083955186, 1.7106250926117819, 1.7048550002229417, 1.6854136559822475, 1.674863714100356, 1.6808152281057165, 1.6764829657197935, 1.671699764016533, 1.6682292878311833, 9.710503727026737, 3.616592008221829, 1.5826241093112228, 1.5821882419301694, 1.5822822940080525, 1.5822543566452731, 1.581851880534474, 1.5817449171654259, 1.582049779462848, 1.5815050565407656, 1.5815315469485005, 1.5808786363107938, 0.9052467974552937, 0.9052635487425379, 0.9052413435478187, 0.905138888000255, 0.9050869089228925, 0.9050824567535252, 0.9050433333152105, 0.9051322097462041, 0.9051059975990545, 0.9050529611314672, 0.9050054898755889, 0.9050521263497108, 0.9050477298324606, 0.9050347628891785, 0.9050072150912187, 0.9049279664764817, 0.9049141090993261, 0.9047806553225429, 2.2595629937887125, 3.610826003674308, 6.317787719786087, 2.2606764813474607, 2.2612192007933283, 1.581216667270002, 1.581108479554378, 5.652434159131811, 2.9331929146882305, 3.624902427562731, 1.5837421603435726, 2.2608732672334932, 1.5809771405580442, 1.5799924319982435, 1.5816877067890567, 0.9068767923127596, 0.9063966258465022, 0.9057658090992804, 1.0825735541028074, 0.6211692315151295, 0.6211595900803403, 0.6210299663459512, 0.6210296403070935, 0.6208117531962519, 0.6207107743043527, 0.6206798937668393, 0.6205786819900417, 0.6205464972970979, 0.6205003860872361, 0.6203946097664321, 0.620248637512183, 0.620240579694702, 0.6202089539255141, 0.620002711059587, 0.6198967484308644, 0.6198722489395642, 0.6198698735136016, 0.619861769119141, 0.6198559004197041, 0.6198303762348513, 0.6196560851769699, 0.6196436491234011, 0.6196132809326639, 0.6195874772859332, 0.6195708027272155, 0.6194468148073651, 0.6194225016239835, 0.6193123936440712, 1.0843768284472588, 1.0850096232928965, 1.0827562290170274, 2.0189572463074974, 2.0144938675008004, 2.4816540800806934, 3.891296122504021, 1.0806426588340925, 2.4890192047201034, 1.5521356483697204, 1.5424288195010092, 1.5690519416118232, 1.0904668616915425, 1.0850202428442586, 0.6415508054668312, 0.6268051392077447, 0.6242106617098377, 0.6241806195579581, 0.6227299795265, 0.6225560145074761, 0.6224588083509293, 0.6223799535243677, 0.6223244803415947, 0.6221298351436025, 0.6210506931018991], \"Total\": [10.0, 7.0, 27.0, 7.0, 5.0, 5.0, 9.0, 6.0, 4.0, 14.0, 1.0, 2.0, 2.0, 2.0, 2.0, 5.0, 3.0, 3.0, 16.0, 3.0, 1.0, 1.0, 1.0, 1.0, 1.0, 1.0, 1.0, 1.0, 1.0, 1.0, 7.060776627413354, 3.4829247214733936, 2.7682729623448923, 2.7677035401334615, 2.7681209749481277, 2.0530286288993413, 2.052805968099296, 2.053121198029989, 2.052924047985077, 2.052872150498394, 2.05281777274106, 2.0528266350714657, 2.052778915062723, 2.0522775160109834, 2.0522380539803526, 2.05223127406832, 2.0524959242209184, 2.0520123345328893, 2.0519436512945726, 2.052360393357742, 2.0528755668646568, 2.051671118679054, 3.95700363074896, 3.9547012209729555, 7.769402510540805, 10.287529278212718, 1.33762806674902, 1.3376341020725062, 1.337630533496856, 1.3376338011396092, 16.89088742352846, 27.740070086887833, 3.449386530907576, 5.827809260349562, 5.790927853933516, 14.124973641676883, 9.288120736200094, 4.130390644814085, 4.810953421057705, 2.526086230900707, 5.306096100670626, 5.3038046785286825, 3.2095091557434974, 2.5252022960143288, 3.207138713583995, 3.2061543616143706, 4.095670163953462, 2.7333183055484924, 10.156515537672188, 4.028318022842047, 1.984538829145217, 1.9842778153281657, 1.984513265256795, 1.9845723420443717, 1.9843654799561057, 1.9842886355031912, 1.9847055396220012, 1.9843131840208323, 1.9846701459400187, 1.9847052227554691, 1.3032688124760272, 1.3033016715958017, 1.3034523543613505, 1.303345988310741, 1.3033039182880288, 1.303304708121843, 1.3032626405263121, 1.303392607336922, 1.3033821129939778, 1.3033146750994586, 1.3033359410569227, 1.3034290910998254, 1.3034472921098168, 1.3034761343159191, 1.3034486125666995, 1.303358729344338, 1.303354926452636, 1.3031627303713313, 3.3803525075559167, 6.162402945602614, 14.124973641676883, 4.095670163953462, 4.810953421057705, 3.1721240991268442, 3.1729977775383706, 27.740070086887833, 9.288120736200094, 16.89088742352846, 4.130390644814085, 10.287529278212718, 5.306096100670626, 5.3038046785286825, 5.790927853933516, 3.449386530907576, 3.2095091557434974, 5.827809260349562, 1.5680803510504646, 1.0943267889836066, 1.0943328385163453, 1.094399634572631, 1.0944006340679313, 1.0945144698331224, 1.0945671544304245, 1.0945835288561625, 1.094634129435883, 1.0946501705717164, 1.0946796147204632, 1.0947367028745612, 1.0948056468873302, 1.0948160061082495, 1.0948293718935154, 1.094939247833502, 1.0949951423027067, 1.0950053079544237, 1.0950100978940864, 1.0950125196011442, 1.095018112945315, 1.0950286769174244, 1.0951226542970809, 1.0951288415666056, 1.0951440774520274, 1.0951579010463133, 1.0951647129979165, 1.0952316992152917, 1.0952444316882874, 1.0953014706540343, 2.248922234167228, 2.2826312175618217, 2.2837689496534637, 5.3038046785286825, 5.306096100670626, 9.288120736200094, 27.740070086887833, 2.96663878689514, 14.124973641676883, 6.162402945602614, 7.769402510540805, 16.89088742352846, 5.790927853933516, 5.827809260349562, 10.287529278212718, 3.9547012209729555, 3.1721240991268442, 3.2061543616143706, 2.5252022960143288, 3.1729977775383706, 3.207138713583995, 3.95700363074896, 1.7754707157824794, 1.8096559195821436, 2.526086230900707], \"Category\": [\"Default\", \"Default\", \"Default\", \"Default\", \"Default\", \"Default\", \"Default\", \"Default\", \"Default\", \"Default\", \"Default\", \"Default\", \"Default\", \"Default\", \"Default\", \"Default\", \"Default\", \"Default\", \"Default\", \"Default\", \"Default\", \"Default\", \"Default\", \"Default\", \"Default\", \"Default\", \"Default\", \"Default\", \"Default\", \"Default\", \"Topic1\", \"Topic1\", \"Topic1\", \"Topic1\", \"Topic1\", \"Topic1\", \"Topic1\", \"Topic1\", \"Topic1\", \"Topic1\", \"Topic1\", \"Topic1\", \"Topic1\", \"Topic1\", \"Topic1\", \"Topic1\", \"Topic1\", \"Topic1\", \"Topic1\", \"Topic1\", \"Topic1\", \"Topic1\", \"Topic1\", \"Topic1\", \"Topic1\", \"Topic1\", \"Topic1\", \"Topic1\", \"Topic1\", \"Topic1\", \"Topic1\", \"Topic1\", \"Topic1\", \"Topic1\", \"Topic1\", \"Topic1\", \"Topic1\", \"Topic1\", \"Topic1\", \"Topic1\", \"Topic1\", \"Topic1\", \"Topic1\", \"Topic1\", \"Topic1\", \"Topic1\", \"Topic1\", \"Topic1\", \"Topic2\", \"Topic2\", \"Topic2\", \"Topic2\", \"Topic2\", \"Topic2\", \"Topic2\", \"Topic2\", \"Topic2\", \"Topic2\", \"Topic2\", \"Topic2\", \"Topic2\", \"Topic2\", \"Topic2\", \"Topic2\", \"Topic2\", \"Topic2\", \"Topic2\", \"Topic2\", \"Topic2\", \"Topic2\", \"Topic2\", \"Topic2\", \"Topic2\", \"Topic2\", \"Topic2\", \"Topic2\", \"Topic2\", \"Topic2\", \"Topic2\", \"Topic2\", \"Topic2\", \"Topic2\", \"Topic2\", \"Topic2\", \"Topic2\", \"Topic2\", \"Topic2\", \"Topic2\", \"Topic2\", \"Topic2\", \"Topic2\", \"Topic2\", \"Topic2\", \"Topic2\", \"Topic2\", \"Topic2\", \"Topic3\", \"Topic3\", \"Topic3\", \"Topic3\", \"Topic3\", \"Topic3\", \"Topic3\", \"Topic3\", \"Topic3\", \"Topic3\", \"Topic3\", \"Topic3\", \"Topic3\", \"Topic3\", \"Topic3\", \"Topic3\", \"Topic3\", \"Topic3\", \"Topic3\", \"Topic3\", \"Topic3\", \"Topic3\", \"Topic3\", \"Topic3\", \"Topic3\", \"Topic3\", \"Topic3\", \"Topic3\", \"Topic3\", \"Topic3\", \"Topic3\", \"Topic3\", \"Topic3\", \"Topic3\", \"Topic3\", \"Topic3\", \"Topic3\", \"Topic3\", \"Topic3\", \"Topic3\", \"Topic3\", \"Topic3\", \"Topic3\", \"Topic3\", \"Topic3\", \"Topic3\", \"Topic3\", \"Topic3\", \"Topic3\", \"Topic3\", \"Topic3\", \"Topic3\", \"Topic3\", \"Topic3\", \"Topic3\"], \"logprob\": [30.0, 29.0, 28.0, 27.0, 26.0, 25.0, 24.0, 23.0, 22.0, 21.0, 20.0, 19.0, 18.0, 17.0, 16.0, 15.0, 14.0, 13.0, 12.0, 11.0, 10.0, 9.0, 8.0, 7.0, 6.0, 5.0, 4.0, 3.0, 2.0, 1.0, -3.7661, -4.5336, -4.7954, -4.7965, -4.7965, -5.1519, -5.152, -5.1521, -5.1522, -5.1523, -5.1525, -5.1525, -5.1526, -5.1529, -5.153, -5.153, -5.153, -5.1534, -5.1535, -5.1534, -5.1531, -5.154, -4.5299, -4.532, -3.8717, -3.6633, -5.7111, -5.7111, -5.7111, -5.7111, -3.2035, -2.7616, -4.7949, -4.3181, -4.5254, -3.9917, -4.3087, -4.7938, -4.7934, -5.1455, -5.1259, -5.1293, -5.1408, -5.1471, -5.1435, -5.1461, -5.149, -5.151, -3.2034, -4.191, -5.0175, -5.0178, -5.0177, -5.0177, -5.018, -5.018, -5.0178, -5.0182, -5.0182, -5.0186, -5.5761, -5.5761, -5.5761, -5.5762, -5.5763, -5.5763, -5.5763, -5.5762, -5.5763, -5.5763, -5.5764, -5.5763, -5.5763, -5.5763, -5.5764, -5.5765, -5.5765, -5.5766, -4.6614, -4.1926, -3.6332, -4.6609, -4.6607, -5.0184, -5.0184, -3.7445, -4.4005, -4.1887, -5.0168, -4.6608, -5.0185, -5.0191, -5.0181, -5.5743, -5.5748, -5.5755, -4.5261, -5.0816, -5.0816, -5.0818, -5.0818, -5.0821, -5.0823, -5.0823, -5.0825, -5.0826, -5.0826, -5.0828, -5.083, -5.0831, -5.0831, -5.0834, -5.0836, -5.0836, -5.0836, -5.0837, -5.0837, -5.0837, -5.084, -5.084, -5.0841, -5.0841, -5.0841, -5.0843, -5.0844, -5.0845, -4.5244, -4.5238, -4.5259, -3.9028, -3.905, -3.6965, -3.2467, -4.5278, -3.6935, -4.1658, -4.172, -4.1549, -4.5188, -4.5238, -5.0493, -5.0725, -5.0767, -5.0767, -5.079, -5.0793, -5.0795, -5.0796, -5.0797, -5.08, -5.0817], \"loglift\": [30.0, 29.0, 28.0, 27.0, 26.0, 25.0, 24.0, 23.0, 22.0, 21.0, 20.0, 19.0, 18.0, 17.0, 16.0, 15.0, 14.0, 13.0, 12.0, 11.0, 10.0, 9.0, 8.0, 7.0, 6.0, 5.0, 4.0, 3.0, 2.0, 1.0, 0.7202, 0.6595, 0.6273, 0.6264, 0.6263, 0.5697, 0.5697, 0.5695, 0.5694, 0.5694, 0.5693, 0.5693, 0.5692, 0.5691, 0.569, 0.569, 0.5689, 0.5687, 0.5687, 0.5686, 0.5686, 0.5683, 0.5355, 0.5341, 0.519, 0.4467, 0.439, 0.4389, 0.4389, 0.4389, 0.4107, 0.3565, 0.4079, 0.3602, 0.1593, -0.1987, -0.0965, 0.2288, 0.0766, 0.3688, -0.3538, -0.3568, 0.134, 0.3676, 0.1321, 0.1298, -0.1179, 0.2844, 0.9195, 0.8566, 0.7381, 0.7379, 0.7379, 0.7378, 0.7377, 0.7377, 0.7376, 0.7375, 0.7373, 0.7369, 0.6, 0.6, 0.5998, 0.5998, 0.5998, 0.5998, 0.5997, 0.5997, 0.5997, 0.5997, 0.5996, 0.5996, 0.5996, 0.5996, 0.5996, 0.5995, 0.5995, 0.5995, 0.5616, 0.4299, 0.1598, 0.3701, 0.2094, 0.2682, 0.2678, -0.6264, -0.1883, -0.5746, 0.0058, -0.5508, -0.2464, -0.2466, -0.3334, -0.3716, -0.3, -0.8972, 1.465, 1.2693, 1.2692, 1.269, 1.269, 1.2685, 1.2683, 1.2682, 1.268, 1.268, 1.2679, 1.2676, 1.2673, 1.2673, 1.2672, 1.2668, 1.2666, 1.2665, 1.2665, 1.2665, 1.2665, 1.2665, 1.2661, 1.2661, 1.266, 1.2659, 1.2659, 1.2656, 1.2656, 1.2654, 1.1061, 1.0918, 1.0892, 0.8697, 0.8671, 0.5157, -0.1286, 0.8257, 0.0995, 0.4567, 0.2187, -0.5408, 0.1659, 0.1545, -0.9393, -0.0065, 0.2099, 0.1992, 0.4356, 0.2069, 0.1961, -0.0141, 0.7872, 0.7678, 0.4325]}, \"token.table\": {\"Topic\": [2, 2, 2, 2, 2, 2, 3, 1, 2, 3, 1, 3, 2, 3, 1, 2, 3, 3, 1, 2, 1, 1, 2, 1, 1, 2, 1, 2, 3, 3, 2, 3, 2, 3, 1, 2, 3, 1, 2, 3, 2, 3, 3, 3, 3, 2, 1, 2, 1, 1, 2, 3, 1, 3, 1, 3, 3, 1, 1, 2, 3, 3, 3, 1, 3, 1, 3, 1, 3, 1, 1, 1, 1, 2, 3, 1, 1, 2, 1, 2, 3, 1, 2, 3, 1, 3, 1, 2, 3, 2, 1, 1, 3, 2, 1, 3, 3, 1, 2, 3, 2, 1, 2, 2, 1, 1, 3, 2, 2, 2, 2, 2, 3, 2, 3, 1, 2, 3, 1, 3, 1, 2, 2, 1, 2, 1, 3, 3, 3, 3, 1, 3, 2, 3, 1, 3, 1, 2, 3, 1, 2, 3, 1, 1, 1, 2, 1, 2, 3, 1, 3, 3, 1, 1, 3, 1, 3, 3, 1, 2, 3, 2, 2, 2, 2, 2], \"Freq\": [0.9845896422752817, 1.0078037950233611, 1.0077908129726252, 1.0077063218603801, 0.7671955690150604, 1.0079233787478665, 0.9137421606591726, 0.4306576231734536, 0.3229932173800902, 0.2153288115867268, 0.9742447913838386, 0.9132460605232112, 0.7673014119781941, 0.9136471262481045, 0.7104422461122076, 0.23681408203740253, 0.11840704101870127, 0.9132926799168508, 0.5798132456537932, 0.2899066228268966, 0.8613450590832464, 0.4842157006410765, 0.4842157006410765, 0.9745458116425451, 0.9744233722457477, 1.0077061609758553, 0.6231482457125725, 0.3115741228562863, 0.3115741228562863, 0.9135092921734543, 0.7672807439369649, 0.9132375822616761, 0.5632309173622633, 0.5632309173622633, 0.3370818194710492, 0.3370818194710492, 0.3370818194710492, 0.31515937612027123, 0.6303187522405425, 0.31515937612027123, 0.7672559772835869, 0.913121862765865, 0.9131345664949142, 0.6377224224065401, 0.9131397255605705, 1.0079054133719867, 0.4883205726872897, 0.4883205726872897, 0.7224721070518569, 0.3769249485977505, 0.3769249485977505, 0.3769249485977505, 0.43787266665121216, 0.43787266665121216, 0.7585908093613011, 0.2528636031204337, 0.9132315677671409, 0.9741266136256546, 0.6236088235064173, 0.31180441175320867, 0.31180441175320867, 0.9131103369154352, 0.9135472511855148, 0.9742705984708354, 0.9136031498408757, 0.7722601566670998, 0.2574200522223666, 0.9742762010049155, 0.9137987683489073, 0.9742890407362206, 0.7475919688425846, 0.9742663924128077, 0.680435487539738, 0.19441013929706802, 0.09720506964853401, 0.9742201626811174, 0.9746856346363112, 1.0077737947006435, 0.37708779286246563, 0.37708779286246563, 0.37708779286246563, 0.6238002835873926, 0.3119001417936963, 0.3119001417936963, 0.7917386095275439, 0.39586930476377197, 0.7475887639412528, 0.767280278946489, 0.9130488103261409, 1.0077241319376629, 0.747590590195174, 0.7581494180818268, 0.25271647269394226, 0.7673050457397889, 0.9745490312284457, 0.913038195919909, 0.9135338639537394, 0.3539829614440549, 0.4247795537328659, 0.14159318457762196, 0.7672347119318036, 0.4157180136573206, 0.4157180136573206, 1.0079178826183341, 0.9744877198336115, 0.7225117753524043, 0.913589482791686, 0.7672820666113088, 0.767248476943148, 0.7671793703571049, 0.7672744112420034, 0.44465743848643935, 0.44465743848643935, 0.7673638730560179, 0.9138038199071999, 0.5180516966658867, 0.3453677977772578, 0.1726838988886289, 0.43809091556547786, 0.43809091556547786, 0.9913923594215699, 0.7672070593086167, 1.0078788510492735, 0.7317113400002133, 0.36585567000010666, 0.7475885957532168, 0.9132180928951229, 0.913384337022757, 0.9132269029872567, 0.9132335874556692, 0.9742431700595408, 0.9133954878452201, 0.7672618919639885, 0.9137429951632846, 0.5525912352613992, 0.5525912352613992, 0.6863642616471071, 0.17159106541177677, 0.17159106541177677, 0.648880840734005, 0.21629361357800167, 0.14419574238533445, 0.9748151064716836, 0.9741705360788023, 0.2958271357098867, 0.5916542714197734, 0.16227436096394557, 0.6490974438557823, 0.32454872192789114, 0.9746530107750404, 0.9134616546373193, 0.9129906485041719, 0.9745270726774831, 0.7920157538097896, 0.3960078769048948, 0.7226207471279811, 0.9131046573465542, 0.9134041305350639, 0.3152461785070953, 0.6304923570141906, 0.3152461785070953, 0.7672285344959793, 0.7672507155987951, 0.9929702613643031, 0.767193366642057, 0.7671963462222982], \"Term\": [\"'\", \"(figure\", \"10\", \"2',\", \"6acroname:\", \"8x\", \"90%\", \"a\", \"a\", \"a\", \"additionally,\", \"affordable\", \"all\\\\n\", \"an\", \"and\", \"and\", \"and\", \"appreciated\", \"are\", \"are\", \"article\", \"as\", \"as\", \"authors\", \"available\", \"battery\", \"be\", \"be\", \"be\", \"being\", \"body\", \"bringing\", \"broad\", \"broad\", \"by\", \"by\", \"by\", \"can\", \"can\", \"can\", \"cmos\\\\n\", \"compared\", \"constraints\", \"designed\", \"desktop\", \"devices\", \"different\", \"different\", \"discusses\", \"e-puck\", \"e-puck\", \"e-puck\", \"education\", \"education\", \"educational\", \"educational\", \"effective\", \"emphasizes\", \"engineering\", \"engineering\", \"engineering\", \"engineering,\", \"evaluation\", \"factors\", \"fits\", \"for\", \"for\", \"functionalities,\", \"ii\", \"ii,\", \"iii,\", \"importance\", \"in\", \"in\", \"in\", \"include\", \"institutions.\", \"ir\", \"is\", \"is\", \"is\", \"it\", \"it\", \"it\", \"khepera\", \"khepera\", \"khr-1.\", \"leds\\\\n\", \"like\", \"low\", \"low-cost.\", \"mobile\", \"mobile\", \"motors\\\\n\", \"need\", \"new\", \"not\", \"of\", \"of\", \"of\", \"off\", \"on\", \"on\", \"one\", \"or\", \"passage\", \"platforms\", \"possibilities',\", \"power-\", \"practice\", \"processors:\", \"purpose\", \"purpose\", \"radio\", \"related\", \"robot\", \"robot\", \"robot\", \"robotics.\", \"robotics.\", \"robots\", \"sensors\", \"set\", \"several\", \"several\", \"sharing\", \"shows\", \"specifically\", \"strictly\", \"students\", \"such\", \"systematic\", \"tances\", \"targeting\", \"teaching\", \"teaching\", \"that\", \"that\", \"that\", \"the\", \"the\", \"the\", \"their\", \"them\", \"this\", \"this\", \"to\", \"to\", \"to\", \"too\", \"tool\", \"university-level\", \"use\", \"used\", \"used\", \"using\", \"was\", \"well-suited\", \"with\", \"with\", \"with\", \"would\", \"www.festo-didactic.com\", \"\\u2022\", \"\\ufb01elds\", \"\\ufb01nd\"]}, \"R\": 30, \"lambda.step\": 0.01, \"plot.opts\": {\"xlab\": \"PC1\", \"ylab\": \"PC2\"}, \"topic.order\": [1, 2, 3]};\n",
       "\n",
       "function LDAvis_load_lib(url, callback){\n",
       "  var s = document.createElement('script');\n",
       "  s.src = url;\n",
       "  s.async = true;\n",
       "  s.onreadystatechange = s.onload = callback;\n",
       "  s.onerror = function(){console.warn(\"failed to load library \" + url);};\n",
       "  document.getElementsByTagName(\"head\")[0].appendChild(s);\n",
       "}\n",
       "\n",
       "if(typeof(LDAvis) !== \"undefined\"){\n",
       "   // already loaded: just create the visualization\n",
       "   !function(LDAvis){\n",
       "       new LDAvis(\"#\" + \"ldavis_el1975221713232411848240383362\", ldavis_el1975221713232411848240383362_data);\n",
       "   }(LDAvis);\n",
       "}else if(typeof define === \"function\" && define.amd){\n",
       "   // require.js is available: use it to load d3/LDAvis\n",
       "   require.config({paths: {d3: \"https://d3js.org/d3.v5\"}});\n",
       "   require([\"d3\"], function(d3){\n",
       "      window.d3 = d3;\n",
       "      LDAvis_load_lib(\"https://cdn.jsdelivr.net/gh/bmabey/pyLDAvis@3.4.0/pyLDAvis/js/ldavis.v3.0.0.js\", function(){\n",
       "        new LDAvis(\"#\" + \"ldavis_el1975221713232411848240383362\", ldavis_el1975221713232411848240383362_data);\n",
       "      });\n",
       "    });\n",
       "}else{\n",
       "    // require.js not available: dynamically load d3 & LDAvis\n",
       "    LDAvis_load_lib(\"https://d3js.org/d3.v5.js\", function(){\n",
       "         LDAvis_load_lib(\"https://cdn.jsdelivr.net/gh/bmabey/pyLDAvis@3.4.0/pyLDAvis/js/ldavis.v3.0.0.js\", function(){\n",
       "                 new LDAvis(\"#\" + \"ldavis_el1975221713232411848240383362\", ldavis_el1975221713232411848240383362_data);\n",
       "            })\n",
       "         });\n",
       "}\n",
       "</script>"
      ],
      "text/plain": [
       "<IPython.core.display.HTML object>"
      ]
     },
     "execution_count": 292,
     "metadata": {},
     "output_type": "execute_result"
    }
   ],
   "source": [
    "# 輸出主題模型分析結果\n",
    "import pyLDAvis.gensim\n",
    "pyLDAvis.enable_notebook()\n",
    "vis = pyLDAvis.gensim.prepare(lda_model, corpus, dictionary)\n",
    "pyLDAvis.display(vis)"
   ]
  },
  {
   "cell_type": "code",
   "execution_count": null,
   "id": "f9ef5f53",
   "metadata": {},
   "outputs": [],
   "source": []
  }
 ],
 "metadata": {
  "kernelspec": {
   "display_name": "Python 3 (ipykernel)",
   "language": "python",
   "name": "python3"
  },
  "language_info": {
   "codemirror_mode": {
    "name": "ipython",
    "version": 3
   },
   "file_extension": ".py",
   "mimetype": "text/x-python",
   "name": "python",
   "nbconvert_exporter": "python",
   "pygments_lexer": "ipython3",
   "version": "3.9.13"
  }
 },
 "nbformat": 4,
 "nbformat_minor": 5
}
