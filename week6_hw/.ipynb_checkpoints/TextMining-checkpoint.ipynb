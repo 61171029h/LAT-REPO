{
 "cells": [
  {
   "cell_type": "code",
   "execution_count": 36,
   "id": "98db756c",
   "metadata": {},
   "outputs": [],
   "source": [
    "import openai\n",
    "import pandas as pd"
   ]
  },
  {
   "cell_type": "code",
   "execution_count": 37,
   "id": "f92744a5",
   "metadata": {},
   "outputs": [],
   "source": [
    "with open('01.txt', 'r', encoding=\"utf-8-sig\") as fh:\n",
    "    tmp = fh.read()\n",
    "    itemlist = tmp.split(',')"
   ]
  },
  {
   "cell_type": "code",
   "execution_count": 35,
   "id": "3717009c",
   "metadata": {},
   "outputs": [
    {
     "ename": "FileNotFoundError",
     "evalue": "[Errno 2] No such file or directory: '02.txt'",
     "output_type": "error",
     "traceback": [
      "\u001b[1;31m---------------------------------------------------------------------------\u001b[0m",
      "\u001b[1;31mFileNotFoundError\u001b[0m                         Traceback (most recent call last)",
      "\u001b[1;32m~\\AppData\\Local\\Temp\\ipykernel_14828\\738417374.py\u001b[0m in \u001b[0;36m<module>\u001b[1;34m\u001b[0m\n\u001b[1;32m----> 1\u001b[1;33m \u001b[1;32mwith\u001b[0m \u001b[0mopen\u001b[0m\u001b[1;33m(\u001b[0m\u001b[1;34m'02.txt'\u001b[0m\u001b[1;33m,\u001b[0m \u001b[1;34m'r'\u001b[0m\u001b[1;33m,\u001b[0m \u001b[0mencoding\u001b[0m\u001b[1;33m=\u001b[0m\u001b[1;34m\"utf-8-sig\"\u001b[0m\u001b[1;33m)\u001b[0m \u001b[1;32mas\u001b[0m \u001b[0mfh\u001b[0m\u001b[1;33m:\u001b[0m\u001b[1;33m\u001b[0m\u001b[1;33m\u001b[0m\u001b[0m\n\u001b[0m\u001b[0;32m      2\u001b[0m     \u001b[0mtmp\u001b[0m \u001b[1;33m=\u001b[0m \u001b[0mfh\u001b[0m\u001b[1;33m.\u001b[0m\u001b[0mread\u001b[0m\u001b[1;33m(\u001b[0m\u001b[1;33m)\u001b[0m\u001b[1;33m\u001b[0m\u001b[1;33m\u001b[0m\u001b[0m\n\u001b[0;32m      3\u001b[0m     \u001b[0mitemlist\u001b[0m \u001b[1;33m=\u001b[0m \u001b[0mtmp\u001b[0m\u001b[1;33m.\u001b[0m\u001b[0msplit\u001b[0m\u001b[1;33m(\u001b[0m\u001b[1;34m','\u001b[0m\u001b[1;33m)\u001b[0m\u001b[1;33m\u001b[0m\u001b[1;33m\u001b[0m\u001b[0m\n",
      "\u001b[1;31mFileNotFoundError\u001b[0m: [Errno 2] No such file or directory: '02.txt'"
     ]
    }
   ],
   "source": [
    "with open('02.txt', 'r', encoding=\"utf-8-sig\") as fh:\n",
    "    tmp = fh.read()\n",
    "    itemlist = tmp.split(',')"
   ]
  },
  {
   "cell_type": "code",
   "execution_count": null,
   "id": "82567590",
   "metadata": {},
   "outputs": [],
   "source": [
    "with open('03.txt', 'r', encoding=\"utf-8-sig\") as fh:\n",
    "    tmp = fh.read()\n",
    "    itemlist = tmp.split(',')"
   ]
  },
  {
   "cell_type": "code",
   "execution_count": 38,
   "id": "671f93dd",
   "metadata": {},
   "outputs": [],
   "source": [
    "itemlist = str(itemlist)"
   ]
  },
  {
   "cell_type": "markdown",
   "id": "bebe3d48",
   "metadata": {},
   "source": [
    "# SKIP"
   ]
  },
  {
   "cell_type": "code",
   "execution_count": 39,
   "id": "3adce0f1",
   "metadata": {},
   "outputs": [],
   "source": [
    "keyfile = open(\"key.txt\", \"r\")\n",
    "key = keyfile.readline()\n",
    "openai.api_key = key"
   ]
  },
  {
   "cell_type": "code",
   "execution_count": 40,
   "id": "0c6fcb13",
   "metadata": {},
   "outputs": [],
   "source": [
    "data = [itemlist[0:3200], itemlist[3201:6400], \n",
    "        itemlist[6401:9600], itemlist[9601:12800]]"
   ]
  },
  {
   "cell_type": "code",
   "execution_count": 41,
   "id": "56642f40",
   "metadata": {},
   "outputs": [
    {
     "data": {
      "text/plain": [
       "\"['Blockchain in education management: present and future applications \\\\nPreeti Bhaskar \\\\nUniversity of Technology and Applied Sciences', ' Ibra', ' Oman and ICFAI Business School', ' ICFAI University', ' Dehradun', ' India \\\\n\\\\nChandan Kumar Tiwari \\\\nSymbiosis Centre for Management Studies', ' Noida', ' India and Symbiosis International (Deemed University)', ' Pune', ' India', ' and \\\\n\\\\nAmit Joshi \\\\nICFAI Business School', ' ICFAI University', ' Dehradun', ' India \\\\nAbstract \\\\nPurpose – This paper aims to provide a systematic literature review on blockchain technology in education to offer a detailed understanding of the present scenario in terms of bene.ts', ' barriers', ' present blockchain technology application and future areas where blockchain technology can be implemented in the other .elds of education. \\\\nDesign/methodology/approach – A bibliometric analysis is conducted on for data in the publications', ' journals', ' authors and citations were collected', ' and examined by applying bibliometric measures. The data was collected from SCOPUS database on the topic “Blockchain Technology in Education”. The following research questions guided this systematic literature review (SLR: How blockchain technology has been de.ned in educational settings? How were the technology examined (i.e. the methodology)? What were the results of using this technology in an education system? \\\\nFindings – The study identi.es the bene.ts', ' barriers and present application of blockchain technology in education. The analysis shows that blockchain technology in education is still a young discipline', ' but has a lot of potential to bene.ts the educational sector at large. \\\\nPractical implications – This research provides a groundwork for education institutions', ' the policymakers and researchers to explore other areas where blockchain technology can be implemented', ' though this research has also suggested some prospective uses of blockchain technology in different functions of an education system', ' more application can be brought into the education system to exploit the potential of blockchain technology. \\\\nOriginality/value – The paper discusses the application of blockchain technology in education with the help of bibliometric analysis. This is one of the .rst known studies to review the blockchain technology by identifying its bene.ts', ' barriers', ' present blockchain technology application. Based on the analysis', ' future application areas are also identi.ed. \\\\nKeywords Systematic review', ' Education', ' Blockchain technology', ' Blockchain application \\\\nPaper type Literature review \\\\n1. Introduction \\\\nBlockchain was .rst used to a peer-to-peer ledger for record-keeping of the transactions of Bitcoin cryptocurrency. A blockchain transaction in the public ledger contains a veri.able record and once the information entered', ' it cannot be altered or erased in the future. The \\\\nBlockchain in education management \\\\nReceived 4 July 2020 Revised 19 September 2020 Accepted 10 October 2020 \\\\n\\\\nInteractive Technology and Smart Education Vol. 18 No. 1', ' 2021 pp. 1-17 © Emerald Publishing Limited 1741-5659 DOI 10.1108/ITSE-07-2020-0102 \\\\n\\\\nBlockchain techno\""
      ]
     },
     "execution_count": 41,
     "metadata": {},
     "output_type": "execute_result"
    }
   ],
   "source": [
    "data[0]"
   ]
  },
  {
   "cell_type": "code",
   "execution_count": 21,
   "id": "bb7c5fca",
   "metadata": {},
   "outputs": [],
   "source": [
    "def chatgptfn(sub_list):\n",
    "    result = ''\n",
    "    response = openai.ChatCompletion.create(\n",
    "        model=\"gpt-3.5-turbo\",\n",
    "        messages=[\n",
    "            {\"role\": \"system\", \"content\": \"You are an assistant\"},\n",
    "            {\"role\": \"user\", \"content\": f\"{sub_list} :give me a summary\"}\n",
    "        ]\n",
    "    )\n",
    "    for choice in response.choices:\n",
    "        result += choice.message.content\n",
    "    return result"
   ]
  },
  {
   "cell_type": "code",
   "execution_count": null,
   "id": "7ac8e6af",
   "metadata": {},
   "outputs": [],
   "source": [
    "for i in range(0,5):\n",
    "    data[i]=chatgptfn(data[i])"
   ]
  },
  {
   "cell_type": "code",
   "execution_count": null,
   "id": "154770b9",
   "metadata": {},
   "outputs": [],
   "source": [
    "data[0]"
   ]
  },
  {
   "cell_type": "code",
   "execution_count": 22,
   "id": "8cc8e09c",
   "metadata": {},
   "outputs": [
    {
     "ename": "RateLimitError",
     "evalue": "You exceeded your current quota, please check your plan and billing details.",
     "output_type": "error",
     "traceback": [
      "\u001b[1;31m---------------------------------------------------------------------------\u001b[0m",
      "\u001b[1;31mRateLimitError\u001b[0m                            Traceback (most recent call last)",
      "\u001b[1;32m~\\AppData\\Local\\Temp\\ipykernel_14828\\2254705493.py\u001b[0m in \u001b[0;36m<module>\u001b[1;34m\u001b[0m\n\u001b[1;32m----> 1\u001b[1;33m \u001b[0mdata\u001b[0m\u001b[1;33m[\u001b[0m\u001b[1;36m0\u001b[0m\u001b[1;33m]\u001b[0m \u001b[1;33m=\u001b[0m \u001b[0mchatgptfn\u001b[0m\u001b[1;33m(\u001b[0m\u001b[0mdata\u001b[0m\u001b[1;33m[\u001b[0m\u001b[1;36m0\u001b[0m\u001b[1;33m]\u001b[0m\u001b[1;33m)\u001b[0m\u001b[1;33m\u001b[0m\u001b[1;33m\u001b[0m\u001b[0m\n\u001b[0m",
      "\u001b[1;32m~\\AppData\\Local\\Temp\\ipykernel_14828\\1488743949.py\u001b[0m in \u001b[0;36mchatgptfn\u001b[1;34m(sub_list)\u001b[0m\n\u001b[0;32m      1\u001b[0m \u001b[1;32mdef\u001b[0m \u001b[0mchatgptfn\u001b[0m\u001b[1;33m(\u001b[0m\u001b[0msub_list\u001b[0m\u001b[1;33m)\u001b[0m\u001b[1;33m:\u001b[0m\u001b[1;33m\u001b[0m\u001b[1;33m\u001b[0m\u001b[0m\n\u001b[0;32m      2\u001b[0m     \u001b[0mresult\u001b[0m \u001b[1;33m=\u001b[0m \u001b[1;34m''\u001b[0m\u001b[1;33m\u001b[0m\u001b[1;33m\u001b[0m\u001b[0m\n\u001b[1;32m----> 3\u001b[1;33m     response = openai.ChatCompletion.create(\n\u001b[0m\u001b[0;32m      4\u001b[0m         \u001b[0mmodel\u001b[0m\u001b[1;33m=\u001b[0m\u001b[1;34m\"gpt-3.5-turbo\"\u001b[0m\u001b[1;33m,\u001b[0m\u001b[1;33m\u001b[0m\u001b[1;33m\u001b[0m\u001b[0m\n\u001b[0;32m      5\u001b[0m         messages=[\n",
      "\u001b[1;32m~\\anaconda3\\lib\\site-packages\\openai\\api_resources\\chat_completion.py\u001b[0m in \u001b[0;36mcreate\u001b[1;34m(cls, *args, **kwargs)\u001b[0m\n\u001b[0;32m     23\u001b[0m         \u001b[1;32mwhile\u001b[0m \u001b[1;32mTrue\u001b[0m\u001b[1;33m:\u001b[0m\u001b[1;33m\u001b[0m\u001b[1;33m\u001b[0m\u001b[0m\n\u001b[0;32m     24\u001b[0m             \u001b[1;32mtry\u001b[0m\u001b[1;33m:\u001b[0m\u001b[1;33m\u001b[0m\u001b[1;33m\u001b[0m\u001b[0m\n\u001b[1;32m---> 25\u001b[1;33m                 \u001b[1;32mreturn\u001b[0m \u001b[0msuper\u001b[0m\u001b[1;33m(\u001b[0m\u001b[1;33m)\u001b[0m\u001b[1;33m.\u001b[0m\u001b[0mcreate\u001b[0m\u001b[1;33m(\u001b[0m\u001b[1;33m*\u001b[0m\u001b[0margs\u001b[0m\u001b[1;33m,\u001b[0m \u001b[1;33m**\u001b[0m\u001b[0mkwargs\u001b[0m\u001b[1;33m)\u001b[0m\u001b[1;33m\u001b[0m\u001b[1;33m\u001b[0m\u001b[0m\n\u001b[0m\u001b[0;32m     26\u001b[0m             \u001b[1;32mexcept\u001b[0m \u001b[0mTryAgain\u001b[0m \u001b[1;32mas\u001b[0m \u001b[0me\u001b[0m\u001b[1;33m:\u001b[0m\u001b[1;33m\u001b[0m\u001b[1;33m\u001b[0m\u001b[0m\n\u001b[0;32m     27\u001b[0m                 \u001b[1;32mif\u001b[0m \u001b[0mtimeout\u001b[0m \u001b[1;32mis\u001b[0m \u001b[1;32mnot\u001b[0m \u001b[1;32mNone\u001b[0m \u001b[1;32mand\u001b[0m \u001b[0mtime\u001b[0m\u001b[1;33m.\u001b[0m\u001b[0mtime\u001b[0m\u001b[1;33m(\u001b[0m\u001b[1;33m)\u001b[0m \u001b[1;33m>\u001b[0m \u001b[0mstart\u001b[0m \u001b[1;33m+\u001b[0m \u001b[0mtimeout\u001b[0m\u001b[1;33m:\u001b[0m\u001b[1;33m\u001b[0m\u001b[1;33m\u001b[0m\u001b[0m\n",
      "\u001b[1;32m~\\anaconda3\\lib\\site-packages\\openai\\api_resources\\abstract\\engine_api_resource.py\u001b[0m in \u001b[0;36mcreate\u001b[1;34m(cls, api_key, api_base, api_type, request_id, api_version, organization, **params)\u001b[0m\n\u001b[0;32m    151\u001b[0m         )\n\u001b[0;32m    152\u001b[0m \u001b[1;33m\u001b[0m\u001b[0m\n\u001b[1;32m--> 153\u001b[1;33m         response, _, api_key = requestor.request(\n\u001b[0m\u001b[0;32m    154\u001b[0m             \u001b[1;34m\"post\"\u001b[0m\u001b[1;33m,\u001b[0m\u001b[1;33m\u001b[0m\u001b[1;33m\u001b[0m\u001b[0m\n\u001b[0;32m    155\u001b[0m             \u001b[0murl\u001b[0m\u001b[1;33m,\u001b[0m\u001b[1;33m\u001b[0m\u001b[1;33m\u001b[0m\u001b[0m\n",
      "\u001b[1;32m~\\anaconda3\\lib\\site-packages\\openai\\api_requestor.py\u001b[0m in \u001b[0;36mrequest\u001b[1;34m(self, method, url, params, headers, files, stream, request_id, request_timeout)\u001b[0m\n\u001b[0;32m    224\u001b[0m             \u001b[0mrequest_timeout\u001b[0m\u001b[1;33m=\u001b[0m\u001b[0mrequest_timeout\u001b[0m\u001b[1;33m,\u001b[0m\u001b[1;33m\u001b[0m\u001b[1;33m\u001b[0m\u001b[0m\n\u001b[0;32m    225\u001b[0m         )\n\u001b[1;32m--> 226\u001b[1;33m         \u001b[0mresp\u001b[0m\u001b[1;33m,\u001b[0m \u001b[0mgot_stream\u001b[0m \u001b[1;33m=\u001b[0m \u001b[0mself\u001b[0m\u001b[1;33m.\u001b[0m\u001b[0m_interpret_response\u001b[0m\u001b[1;33m(\u001b[0m\u001b[0mresult\u001b[0m\u001b[1;33m,\u001b[0m \u001b[0mstream\u001b[0m\u001b[1;33m)\u001b[0m\u001b[1;33m\u001b[0m\u001b[1;33m\u001b[0m\u001b[0m\n\u001b[0m\u001b[0;32m    227\u001b[0m         \u001b[1;32mreturn\u001b[0m \u001b[0mresp\u001b[0m\u001b[1;33m,\u001b[0m \u001b[0mgot_stream\u001b[0m\u001b[1;33m,\u001b[0m \u001b[0mself\u001b[0m\u001b[1;33m.\u001b[0m\u001b[0mapi_key\u001b[0m\u001b[1;33m\u001b[0m\u001b[1;33m\u001b[0m\u001b[0m\n\u001b[0;32m    228\u001b[0m \u001b[1;33m\u001b[0m\u001b[0m\n",
      "\u001b[1;32m~\\anaconda3\\lib\\site-packages\\openai\\api_requestor.py\u001b[0m in \u001b[0;36m_interpret_response\u001b[1;34m(self, result, stream)\u001b[0m\n\u001b[0;32m    617\u001b[0m         \u001b[1;32melse\u001b[0m\u001b[1;33m:\u001b[0m\u001b[1;33m\u001b[0m\u001b[1;33m\u001b[0m\u001b[0m\n\u001b[0;32m    618\u001b[0m             return (\n\u001b[1;32m--> 619\u001b[1;33m                 self._interpret_response_line(\n\u001b[0m\u001b[0;32m    620\u001b[0m                     \u001b[0mresult\u001b[0m\u001b[1;33m.\u001b[0m\u001b[0mcontent\u001b[0m\u001b[1;33m.\u001b[0m\u001b[0mdecode\u001b[0m\u001b[1;33m(\u001b[0m\u001b[1;34m\"utf-8\"\u001b[0m\u001b[1;33m)\u001b[0m\u001b[1;33m,\u001b[0m\u001b[1;33m\u001b[0m\u001b[1;33m\u001b[0m\u001b[0m\n\u001b[0;32m    621\u001b[0m                     \u001b[0mresult\u001b[0m\u001b[1;33m.\u001b[0m\u001b[0mstatus_code\u001b[0m\u001b[1;33m,\u001b[0m\u001b[1;33m\u001b[0m\u001b[1;33m\u001b[0m\u001b[0m\n",
      "\u001b[1;32m~\\anaconda3\\lib\\site-packages\\openai\\api_requestor.py\u001b[0m in \u001b[0;36m_interpret_response_line\u001b[1;34m(self, rbody, rcode, rheaders, stream)\u001b[0m\n\u001b[0;32m    680\u001b[0m         \u001b[0mstream_error\u001b[0m \u001b[1;33m=\u001b[0m \u001b[0mstream\u001b[0m \u001b[1;32mand\u001b[0m \u001b[1;34m\"error\"\u001b[0m \u001b[1;32min\u001b[0m \u001b[0mresp\u001b[0m\u001b[1;33m.\u001b[0m\u001b[0mdata\u001b[0m\u001b[1;33m\u001b[0m\u001b[1;33m\u001b[0m\u001b[0m\n\u001b[0;32m    681\u001b[0m         \u001b[1;32mif\u001b[0m \u001b[0mstream_error\u001b[0m \u001b[1;32mor\u001b[0m \u001b[1;32mnot\u001b[0m \u001b[1;36m200\u001b[0m \u001b[1;33m<=\u001b[0m \u001b[0mrcode\u001b[0m \u001b[1;33m<\u001b[0m \u001b[1;36m300\u001b[0m\u001b[1;33m:\u001b[0m\u001b[1;33m\u001b[0m\u001b[1;33m\u001b[0m\u001b[0m\n\u001b[1;32m--> 682\u001b[1;33m             raise self.handle_error_response(\n\u001b[0m\u001b[0;32m    683\u001b[0m                 \u001b[0mrbody\u001b[0m\u001b[1;33m,\u001b[0m \u001b[0mrcode\u001b[0m\u001b[1;33m,\u001b[0m \u001b[0mresp\u001b[0m\u001b[1;33m.\u001b[0m\u001b[0mdata\u001b[0m\u001b[1;33m,\u001b[0m \u001b[0mrheaders\u001b[0m\u001b[1;33m,\u001b[0m \u001b[0mstream_error\u001b[0m\u001b[1;33m=\u001b[0m\u001b[0mstream_error\u001b[0m\u001b[1;33m\u001b[0m\u001b[1;33m\u001b[0m\u001b[0m\n\u001b[0;32m    684\u001b[0m             )\n",
      "\u001b[1;31mRateLimitError\u001b[0m: You exceeded your current quota, please check your plan and billing details."
     ]
    }
   ],
   "source": [
    "data1=''\n",
    "dor i in range(0,5):\n",
    "    data1=data1+data[i]"
   ]
  },
  {
   "cell_type": "code",
   "execution_count": null,
   "id": "24d64247",
   "metadata": {},
   "outputs": [],
   "source": [
    "data1"
   ]
  },
  {
   "cell_type": "code",
   "execution_count": 14,
   "id": "86e96e47",
   "metadata": {},
   "outputs": [
    {
     "data": {
      "text/plain": [
       "'This paper provides a literature review on the application of blockchain technology in education. The study examines the benefits and barriers associated with blockchain technology, as well as its current applications in the educational sector. Additionally, the paper identifies potential future areas in which blockchain technology can be implemented. The research is based on bibliometric analysis and provides a foundation for educators, policymakers, and researchers to explore the potential of blockchain technology in education.'"
      ]
     },
     "execution_count": 14,
     "metadata": {},
     "output_type": "execute_result"
    }
   ],
   "source": [
    "data2=''\n",
    "dor i in range(0,5):\n",
    "    data2=data2+data[i]"
   ]
  },
  {
   "cell_type": "code",
   "execution_count": null,
   "id": "4ec1f936",
   "metadata": {},
   "outputs": [],
   "source": [
    "data2"
   ]
  },
  {
   "cell_type": "code",
   "execution_count": null,
   "id": "19b3c853",
   "metadata": {},
   "outputs": [],
   "source": [
    "data3=''\n",
    "dor i in range(0,5):\n",
    "    data3=data3+data[i]"
   ]
  },
  {
   "cell_type": "code",
   "execution_count": null,
   "id": "d149560c",
   "metadata": {},
   "outputs": [],
   "source": [
    "data3"
   ]
  },
  {
   "cell_type": "code",
   "execution_count": null,
   "id": "4c912f7a",
   "metadata": {},
   "outputs": [],
   "source": [
    "paper=[data1,data2,data3]"
   ]
  },
  {
   "cell_type": "code",
   "execution_count": 25,
   "id": "775265fa",
   "metadata": {},
   "outputs": [],
   "source": [
    "import gensim\n",
    "from gensim import corpora\n",
    "from pprint import pprint"
   ]
  },
  {
   "cell_type": "code",
   "execution_count": 26,
   "id": "d905021c",
   "metadata": {},
   "outputs": [],
   "source": [
    "# 創建詞袋\n",
    "texts = [[word for word in document.lower().split()] for document in data]\n",
    "dictionary = corpora.Dictionary(texts)\n",
    "corpus = [dictionary.doc2bow(text) for text in texts]"
   ]
  },
  {
   "cell_type": "code",
   "execution_count": 27,
   "id": "911dea5e",
   "metadata": {},
   "outputs": [],
   "source": [
    "# 訓練 LDA 模型\n",
    "lda_model = gensim.models.ldamodel.LdaModel(corpus=corpus, id2word=dictionary, \n",
    "                                            num_topics=3, random_state=100, update_every=1, \n",
    "                                            chunksize=100, passes=10, alpha='auto', per_word_topics=True)"
   ]
  },
  {
   "cell_type": "code",
   "execution_count": 30,
   "id": "78fd25b6",
   "metadata": {},
   "outputs": [
    {
     "name": "stdout",
     "output_type": "stream",
     "text": [
      "Collecting pyLDAvis\n",
      "  Downloading pyLDAvis-3.4.0-py3-none-any.whl (2.6 MB)\n",
      "     ---------------------------------------- 2.6/2.6 MB 4.3 MB/s eta 0:00:00\n",
      "Requirement already satisfied: scikit-learn>=1.0.0 in c:\\users\\ntnua\\anaconda3\\lib\\site-packages (from pyLDAvis) (1.1.3)\n",
      "Requirement already satisfied: scipy in c:\\users\\ntnua\\anaconda3\\lib\\site-packages (from pyLDAvis) (1.7.3)\n",
      "Collecting funcy\n",
      "  Downloading funcy-2.0-py2.py3-none-any.whl (30 kB)\n",
      "Collecting joblib>=1.2.0\n",
      "  Downloading joblib-1.2.0-py3-none-any.whl (297 kB)\n",
      "     -------------------------------------- 298.0/298.0 kB 6.1 MB/s eta 0:00:00\n",
      "Requirement already satisfied: gensim in c:\\users\\ntnua\\anaconda3\\lib\\site-packages (from pyLDAvis) (4.1.2)\n",
      "Requirement already satisfied: setuptools in c:\\users\\ntnua\\anaconda3\\lib\\site-packages (from pyLDAvis) (63.4.1)\n",
      "Requirement already satisfied: jinja2 in c:\\users\\ntnua\\anaconda3\\lib\\site-packages (from pyLDAvis) (2.11.3)\n",
      "Requirement already satisfied: numexpr in c:\\users\\ntnua\\anaconda3\\lib\\site-packages (from pyLDAvis) (2.8.3)\n",
      "Requirement already satisfied: pandas>=1.3.4 in c:\\users\\ntnua\\anaconda3\\lib\\site-packages (from pyLDAvis) (1.4.4)\n",
      "Collecting numpy>=1.22.0\n",
      "  Downloading numpy-1.24.2-cp39-cp39-win_amd64.whl (14.9 MB)\n",
      "     ---------------------------------------- 14.9/14.9 MB 2.6 MB/s eta 0:00:00\n",
      "Requirement already satisfied: python-dateutil>=2.8.1 in c:\\users\\ntnua\\appdata\\roaming\\python\\python39\\site-packages (from pandas>=1.3.4->pyLDAvis) (2.8.2)\n",
      "Requirement already satisfied: pytz>=2020.1 in c:\\users\\ntnua\\anaconda3\\lib\\site-packages (from pandas>=1.3.4->pyLDAvis) (2022.1)\n",
      "Requirement already satisfied: threadpoolctl>=2.0.0 in c:\\users\\ntnua\\anaconda3\\lib\\site-packages (from scikit-learn>=1.0.0->pyLDAvis) (2.2.0)\n",
      "  Downloading numpy-1.22.4-cp39-cp39-win_amd64.whl (14.7 MB)\n",
      "     ---------------------------------------- 14.7/14.7 MB 2.1 MB/s eta 0:00:00\n",
      "Requirement already satisfied: smart-open>=1.8.1 in c:\\users\\ntnua\\anaconda3\\lib\\site-packages (from gensim->pyLDAvis) (5.2.1)\n",
      "Requirement already satisfied: MarkupSafe>=0.23 in c:\\users\\ntnua\\anaconda3\\lib\\site-packages (from jinja2->pyLDAvis) (2.0.1)\n",
      "Requirement already satisfied: packaging in c:\\users\\ntnua\\anaconda3\\lib\\site-packages (from numexpr->pyLDAvis) (21.3)\n",
      "Requirement already satisfied: six>=1.5 in c:\\users\\ntnua\\anaconda3\\lib\\site-packages (from python-dateutil>=2.8.1->pandas>=1.3.4->pyLDAvis) (1.16.0)\n",
      "Requirement already satisfied: pyparsing!=3.0.5,>=2.0.2 in c:\\users\\ntnua\\anaconda3\\lib\\site-packages (from packaging->numexpr->pyLDAvis) (3.0.9)\n",
      "Installing collected packages: funcy, numpy, joblib, pyLDAvis\n",
      "  Attempting uninstall: numpy\n",
      "    Found existing installation: numpy 1.21.5\n",
      "    Uninstalling numpy-1.21.5:\n",
      "      Successfully uninstalled numpy-1.21.5\n",
      "  Attempting uninstall: joblib\n",
      "    Found existing installation: joblib 1.1.0\n",
      "    Uninstalling joblib-1.1.0:\n",
      "      Successfully uninstalled joblib-1.1.0\n",
      "Successfully installed funcy-2.0 joblib-1.2.0 numpy-1.22.4 pyLDAvis-3.4.0\n"
     ]
    },
    {
     "name": "stderr",
     "output_type": "stream",
     "text": [
      "ERROR: pip's dependency resolver does not currently take into account all the packages that are installed. This behaviour is the source of the following dependency conflicts.\n",
      "tensorflow 2.9.1 requires libclang>=13.0.0, which is not installed.\n",
      "tensorflow 2.9.1 requires tensorflow-io-gcs-filesystem>=0.23.1, which is not installed.\n",
      "daal4py 2021.6.0 requires daal==2021.4.0, which is not installed.\n",
      "tensorflow 2.9.1 requires flatbuffers<2,>=1.12, but you have flatbuffers 2.0 which is incompatible.\n",
      "tensorflow 2.9.1 requires gast<=0.4.0,>=0.2.1, but you have gast 0.5.3 which is incompatible.\n",
      "tensorflow 2.9.1 requires protobuf<3.20,>=3.9.2, but you have protobuf 3.20.1 which is incompatible.\n",
      "numba 0.55.1 requires numpy<1.22,>=1.18, but you have numpy 1.22.4 which is incompatible.\n"
     ]
    }
   ],
   "source": [
    "!pip install pyLDAvis"
   ]
  },
  {
   "cell_type": "code",
   "execution_count": 31,
   "id": "9b194905",
   "metadata": {},
   "outputs": [
    {
     "name": "stderr",
     "output_type": "stream",
     "text": [
      "C:\\Users\\ntnua\\anaconda3\\lib\\site-packages\\pyLDAvis\\_prepare.py:243: FutureWarning: In a future version of pandas all arguments of DataFrame.drop except for the argument 'labels' will be keyword-only.\n",
      "  default_term_info = default_term_info.sort_values(\n"
     ]
    },
    {
     "data": {
      "text/html": [
       "\n",
       "<link rel=\"stylesheet\" type=\"text/css\" href=\"https://cdn.jsdelivr.net/gh/bmabey/pyLDAvis@3.4.0/pyLDAvis/js/ldavis.v1.0.0.css\">\n",
       "\n",
       "\n",
       "<div id=\"ldavis_el1482819789431861927742159100\" style=\"background-color:white;\"></div>\n",
       "<script type=\"text/javascript\">\n",
       "\n",
       "var ldavis_el1482819789431861927742159100_data = {\"mdsDat\": {\"x\": [0.08321276419587836, -0.03957574122246519, -0.04363702297341321], \"y\": [-0.0, -0.0, -0.0], \"topics\": [1, 2, 3], \"cluster\": [1, 1, 1], \"Freq\": [99.7585293246309, 0.12610111749567943, 0.11536955787342712]}, \"tinfo\": {\"Term\": [\"the\", \"of\", \"in\", \"and\", \"technology\", \"'\", \"blockchain\", \"education\", \"a\", \"to\", \"for\", \"review\", \"this\", \"on\", \"application\", \"is\", \"be\", \"literature\", \"systematic\", \"present\", \"were\", \"research\", \"has\", \"been\", \"can\", \"educational\", \"\\\\nal.',\", \"\\\\net\", \"areas\", \"study\", \"'\", \"the\", \"of\", \"and\", \"blockchain\", \"in\", \"technology\", \"to\", \"a\", \"education\", \"for\", \"on\", \"is\", \"this\", \"review\", \"application\", \"literature\", \"be\", \"were\", \"present\", \"systematic\", \"been\", \"has\", \"research\", \"\\\\net\", \"\\\\nal.',\", \"educational\", \"can\", \"areas\", \"\\\\nand\", \"september\", \"10\", \"\\u00a9\", \"centre\", \"altered\", \"oman\", \"\\u201cblockchain\", \"education\\u201d.\", \"suggested\", \"vol.\", \"19\", \"lot\", \"university)',\", \"pp.\", \"no.\", \"cryptocurrency.\", \"\\\\n\\\\nchandan\", \"\\\\nkeywords\", \"management:\", \"applying\", \"\\\\n\\\\nblockchain\", \"record-keeping\", \"application.\", \"identifying\", \"topic\", \"known\", \"2021\", \"1-17\", \"\\\\npreeti\", \"collected',\", \"identi.es\", \"the\", \"'\", \"and\", \"blockchain\", \"in\", \"technology\", \"of\", \"education\", \"a\", \"to\", \"2020\", \"\\u2013\", \"application\", \"icfai\", \"this\", \"review\", \"for\", \"be\", \"research\", \"can\", \"systematic\", \"present\", \"on\", \"paper\", \"analysis\", \"bene.ts',\", \"has\", \"were\", \"areas\", \"is\", \"literature\", \"potential\", \"future\", \"chapters',\", \"peer-reviewed\", \"\\\\nin\", \"published\", \"list\", \"analyzing\", \"papers\", \"clear\", \"database.\", \"\\\\nresearch\", \"hasselgren\", \"\\\\nto\", \".ndings\", \"chapter\", \"topic.\", \"things',\", \"2.\", \"=\", \"cryptocurrencies\", \"hard\", \"36\", \"acceptance\", \"immature\", \"academic\", \"editorials\", \"\\\\n3\", \"supply-chain',\", \"\\\\n\\\\n\\\\nfigure\", \"better\", \"vision\", \"started\", \"library\", \"the\", \"of\", \"'\", \"and\", \"in\", \"technology\", \"review\", \"article\", \"literature\", \"for\", \"blockchain\", \"to\", \"education\", \"a\", \"systematic\", \"this\", \"were\", \"retrieved\", \"be\", \"present\", \"we\", \"has\", \"educational\", \"\\\\nal.',\", \"\\\\net\", \"research\", \"application\", \"articles\", \"is\", \"with\", \"on\", \"by\"], \"Freq\": [118.0, 65.0, 40.0, 48.0, 37.0, 113.0, 40.0, 21.0, 21.0, 25.0, 18.0, 12.0, 12.0, 13.0, 11.0, 12.0, 10.0, 10.0, 10.0, 10.0, 10.0, 9.0, 9.0, 9.0, 8.0, 8.0, 8.0, 8.0, 7.0, 6.0, 113.56955328288453, 118.65567139191562, 65.70099333387039, 48.90414707863307, 40.95896472549141, 40.93557704212748, 37.40452061726657, 25.93496403451084, 21.4854607548321, 21.481235658462484, 18.865592998233165, 13.56205296135806, 12.68113428953327, 12.665393717370437, 12.659394532965885, 11.781077392884331, 10.897149993043453, 10.89661750560972, 10.014433741091063, 10.01207235073951, 10.008693839783328, 9.142612599670041, 9.129678897541883, 9.126576201155135, 8.260500181506885, 8.256265514284701, 8.251149458548841, 8.243145615570239, 7.364818904636117, 6.488163612591211, 0.0032866968153072813, 0.003284500723299279, 0.003284975576297629, 0.0032845196954225486, 0.0032844303339723668, 0.0032835380942620915, 0.003282436061362621, 0.003281439887411827, 0.003279595467080078, 0.0032792745907343486, 0.0032793840241410327, 0.003279088993876279, 0.0032783477062772338, 0.0032783721775666683, 0.0032783809762325323, 0.0032770919716834505, 0.0032771651105934453, 0.0032759643676613126, 0.0032760553788613437, 0.003276056203736268, 0.0032756162704430662, 0.003274926125089356, 0.003273504590635697, 0.0032738463638128535, 0.0032720929546811357, 0.0032716876661347733, 0.0032722194355029313, 0.003271780327084654, 0.003271295300628899, 0.00327106708523305, 0.0032719914950653907, 0.006980609084801054, 0.005585166524845547, 0.0047206195155442355, 0.004580799366382186, 0.0045536535574834695, 0.0044892027801127716, 0.004665761483631806, 0.004163621897729446, 0.004121427345661833, 0.003934914051550872, 0.0034410410871860845, 0.0035032724010925784, 0.0036120527817944587, 0.0034055995111691214, 0.0035822577495957424, 0.0035765529146161465, 0.0036188360032590157, 0.003548734557695448, 0.0035298111020466757, 0.0035139168620799068, 0.0035306381766378953, 0.003526184401960842, 0.003551038983276901, 0.0034572628024979804, 0.003386231447935907, 0.00340902411689839, 0.003488903354861679, 0.003481330178177516, 0.003450828503126594, 0.0034791833037066907, 0.0034663210290050077, 0.003422014797130026, 0.0034132746973856453, 0.0029970488355030066, 0.0029909749535117543, 0.0029893433445411493, 0.002988993929669091, 0.0029890452476200625, 0.0029898109919473093, 0.002989410007565696, 0.002988905632606389, 0.0029883514490476096, 0.002989027386960656, 0.00298753036183206, 0.0029879104668512685, 0.002987142458496773, 0.002987199562295158, 0.002985929946125771, 0.0029875313680663928, 0.002986271059564584, 0.0029864365851123265, 0.0029871847203387495, 0.0029866639940715352, 0.0029860979872593455, 0.0029860811328342716, 0.0029856738594880783, 0.0029858260524309116, 0.0029859221478096922, 0.0029857898279949313, 0.0029849372959564824, 0.00298542758363513, 0.002984995154430617, 0.0029848218305667954, 0.0029852323741745702, 0.002985114896316218, 0.005161237010645609, 0.004325433114861819, 0.00406041187096958, 0.0036119732266635994, 0.0035737350642249866, 0.0034424567019986497, 0.0032269253328541863, 0.0031312050279210983, 0.0032005212408448337, 0.0032534589775338844, 0.0033149768743785633, 0.003270599676275651, 0.0032197347823121297, 0.003216437352403605, 0.0031503129147834527, 0.0031616805955994682, 0.0031384592227847036, 0.0030591234314922967, 0.0031297517739859787, 0.003120688621350616, 0.003061325575329589, 0.0031036809970993603, 0.0030951903917993497, 0.0030945159632378033, 0.0030939665592921045, 0.0030969213664103173, 0.003102046872542923, 0.0030770794316021992, 0.003099641720928992, 0.0030779400135153103, 0.0030994122995011177, 0.0030738147043094894], \"Total\": [118.0, 65.0, 40.0, 48.0, 37.0, 113.0, 40.0, 21.0, 21.0, 25.0, 18.0, 12.0, 12.0, 13.0, 11.0, 12.0, 10.0, 10.0, 10.0, 10.0, 10.0, 9.0, 9.0, 9.0, 8.0, 8.0, 8.0, 8.0, 7.0, 6.0, 113.57919886128035, 118.66781323801106, 65.70998452846888, 48.91247967137528, 40.96686050173217, 40.943704430749186, 37.41245227674868, 25.94216954823867, 21.492798619530166, 21.488619015142525, 18.872465293213956, 13.568703412640838, 12.687713114557907, 12.672137655715632, 12.666198011213355, 11.78779149253867, 10.903816835313304, 10.903295991941402, 10.021053530492024, 10.018719223762822, 10.01537479087475, 9.149067875459137, 9.136271481893845, 9.133202933623592, 8.266894938144532, 8.262706030346127, 8.257645281879888, 8.24973010303714, 7.371306514646728, 6.494533514001339, 1.1803926632289876, 1.1804309355138858, 1.1806257595412113, 1.1808576584227113, 1.1808276112506608, 1.1806607469727706, 1.1811197969504135, 1.1812633591853727, 1.1812316686949205, 1.181261900486426, 1.1813407289786702, 1.1813909900186659, 1.1814363684519769, 1.1814558630926946, 1.1815186408370504, 1.1813908349084192, 1.181705686583987, 1.181494980645229, 1.181616337732937, 1.1817147547783, 1.1816411763179187, 1.1817746423126256, 1.181776682945649, 1.1820386872644222, 1.1816601759137901, 1.1817579151472972, 1.1819645863328379, 1.1820287282632942, 1.1819436261565721, 1.181888262715088, 1.1822754317968758, 118.66781323801106, 113.57919886128035, 48.91247967137528, 40.96686050173217, 40.943704430749186, 37.41245227674868, 65.70998452846888, 21.488619015142525, 21.492798619530166, 25.94216954823867, 2.9404447309016444, 4.7081738712212475, 11.78779149253867, 2.94309422996767, 12.672137655715632, 12.666198011213355, 18.872465293213956, 10.903295991941402, 9.133202933623592, 8.24973010303714, 10.01537479087475, 10.018719223762822, 13.568703412640838, 5.594723133218198, 2.9435303113603033, 3.8280776602547473, 9.136271481893845, 10.021053530492024, 7.371306514646728, 12.687713114557907, 10.903816835313304, 5.599052796236077, 5.600149089690343, 1.1835221953018564, 1.1839262594299216, 1.184052589526664, 1.1841493383991433, 1.1844224986003273, 1.1847522933453123, 1.184648829778638, 1.1844693106291155, 1.184356498479944, 1.1847312731526194, 1.1843646355978585, 1.184524260781914, 1.1842977482191943, 1.184594144813539, 1.1841593852599386, 1.1848275771837715, 1.1843510733362939, 1.1844750004296511, 1.185020401984109, 1.184865089125785, 1.184718171624063, 1.1847524938640592, 1.1846319225889692, 1.1847775844653126, 1.184882688540696, 1.1848589231436968, 1.1845661425911242, 1.1847798760633914, 1.1846495183302153, 1.184852869425186, 1.185043262699415, 1.1851047045108123, 118.66781323801106, 65.70998452846888, 113.57919886128035, 48.91247967137528, 40.943704430749186, 37.41245227674868, 12.666198011213355, 4.716111940189641, 10.903816835313304, 18.872465293213956, 40.96686050173217, 25.94216954823867, 21.488619015142525, 21.492798619530166, 10.01537479087475, 12.672137655715632, 10.021053530492024, 2.949986536530194, 10.903295991941402, 10.018719223762822, 3.8360776287881535, 9.136271481893845, 8.257645281879888, 8.262706030346127, 8.266894938144532, 9.133202933623592, 11.78779149253867, 5.608399528001435, 12.687713114557907, 6.492373228139434, 13.568703412640838, 6.489325109918759], \"Category\": [\"Default\", \"Default\", \"Default\", \"Default\", \"Default\", \"Default\", \"Default\", \"Default\", \"Default\", \"Default\", \"Default\", \"Default\", \"Default\", \"Default\", \"Default\", \"Default\", \"Default\", \"Default\", \"Default\", \"Default\", \"Default\", \"Default\", \"Default\", \"Default\", \"Default\", \"Default\", \"Default\", \"Default\", \"Default\", \"Default\", \"Topic1\", \"Topic1\", \"Topic1\", \"Topic1\", \"Topic1\", \"Topic1\", \"Topic1\", \"Topic1\", \"Topic1\", \"Topic1\", \"Topic1\", \"Topic1\", \"Topic1\", \"Topic1\", \"Topic1\", \"Topic1\", \"Topic1\", \"Topic1\", \"Topic1\", \"Topic1\", \"Topic1\", \"Topic1\", \"Topic1\", \"Topic1\", \"Topic1\", \"Topic1\", \"Topic1\", \"Topic1\", \"Topic1\", \"Topic1\", \"Topic2\", \"Topic2\", \"Topic2\", \"Topic2\", \"Topic2\", \"Topic2\", \"Topic2\", \"Topic2\", \"Topic2\", \"Topic2\", \"Topic2\", \"Topic2\", \"Topic2\", \"Topic2\", \"Topic2\", \"Topic2\", \"Topic2\", \"Topic2\", \"Topic2\", \"Topic2\", \"Topic2\", \"Topic2\", \"Topic2\", \"Topic2\", \"Topic2\", \"Topic2\", \"Topic2\", \"Topic2\", \"Topic2\", \"Topic2\", \"Topic2\", \"Topic2\", \"Topic2\", \"Topic2\", \"Topic2\", \"Topic2\", \"Topic2\", \"Topic2\", \"Topic2\", \"Topic2\", \"Topic2\", \"Topic2\", \"Topic2\", \"Topic2\", \"Topic2\", \"Topic2\", \"Topic2\", \"Topic2\", \"Topic2\", \"Topic2\", \"Topic2\", \"Topic2\", \"Topic2\", \"Topic2\", \"Topic2\", \"Topic2\", \"Topic2\", \"Topic2\", \"Topic2\", \"Topic2\", \"Topic2\", \"Topic2\", \"Topic2\", \"Topic2\", \"Topic3\", \"Topic3\", \"Topic3\", \"Topic3\", \"Topic3\", \"Topic3\", \"Topic3\", \"Topic3\", \"Topic3\", \"Topic3\", \"Topic3\", \"Topic3\", \"Topic3\", \"Topic3\", \"Topic3\", \"Topic3\", \"Topic3\", \"Topic3\", \"Topic3\", \"Topic3\", \"Topic3\", \"Topic3\", \"Topic3\", \"Topic3\", \"Topic3\", \"Topic3\", \"Topic3\", \"Topic3\", \"Topic3\", \"Topic3\", \"Topic3\", \"Topic3\", \"Topic3\", \"Topic3\", \"Topic3\", \"Topic3\", \"Topic3\", \"Topic3\", \"Topic3\", \"Topic3\", \"Topic3\", \"Topic3\", \"Topic3\", \"Topic3\", \"Topic3\", \"Topic3\", \"Topic3\", \"Topic3\", \"Topic3\", \"Topic3\", \"Topic3\", \"Topic3\", \"Topic3\", \"Topic3\", \"Topic3\", \"Topic3\", \"Topic3\", \"Topic3\", \"Topic3\", \"Topic3\", \"Topic3\", \"Topic3\", \"Topic3\", \"Topic3\"], \"logprob\": [30.0, 29.0, 28.0, 27.0, 26.0, 25.0, 24.0, 23.0, 22.0, 21.0, 20.0, 19.0, 18.0, 17.0, 16.0, 15.0, 14.0, 13.0, 12.0, 11.0, 10.0, 9.0, 8.0, 7.0, 6.0, 5.0, 4.0, 3.0, 2.0, 1.0, -2.8005, -2.7567, -3.3478, -3.643, -3.8203, -3.8209, -3.9111, -4.2773, -4.4655, -4.4657, -4.5955, -4.9256, -4.9928, -4.994, -4.9945, -5.0664, -5.1444, -5.1444, -5.2289, -5.2291, -5.2294, -5.3199, -5.3213, -5.3217, -5.4214, -5.4219, -5.4225, -5.4235, -5.5362, -5.6629, -6.5773, -6.578, -6.5779, -6.578, -6.578, -6.5783, -6.5786, -6.5789, -6.5795, -6.5796, -6.5796, -6.5796, -6.5799, -6.5799, -6.5799, -6.5803, -6.5802, -6.5806, -6.5806, -6.5806, -6.5807, -6.5809, -6.5813, -6.5812, -6.5818, -6.5819, -6.5817, -6.5819, -6.582, -6.5821, -6.5818, -5.8241, -6.0471, -6.2153, -6.2453, -6.2513, -6.2655, -6.227, -6.3408, -6.351, -6.3973, -6.5314, -6.5135, -6.4829, -6.5418, -6.4912, -6.4928, -6.4811, -6.5006, -6.506, -6.5105, -6.5057, -6.507, -6.5, -6.5267, -6.5475, -6.5408, -6.5176, -6.5198, -6.5286, -6.5204, -6.5241, -6.537, -6.5395, -6.5806, -6.5827, -6.5832, -6.5833, -6.5833, -6.5831, -6.5832, -6.5834, -6.5835, -6.5833, -6.5838, -6.5837, -6.5839, -6.5839, -6.5844, -6.5838, -6.5842, -6.5842, -6.5839, -6.5841, -6.5843, -6.5843, -6.5844, -6.5844, -6.5844, -6.5844, -6.5847, -6.5845, -6.5847, -6.5847, -6.5846, -6.5846, -6.0371, -6.2138, -6.277, -6.394, -6.4047, -6.4421, -6.5067, -6.5368, -6.515, -6.4985, -6.4798, -6.4933, -6.509, -6.51, -6.5308, -6.5272, -6.5345, -6.5601, -6.5373, -6.5402, -6.5594, -6.5457, -6.5484, -6.5486, -6.5488, -6.5479, -6.5462, -6.5543, -6.547, -6.554, -6.5471, -6.5553], \"loglift\": [30.0, 29.0, 28.0, 27.0, 26.0, 25.0, 24.0, 23.0, 22.0, 21.0, 20.0, 19.0, 18.0, 17.0, 16.0, 15.0, 14.0, 13.0, 12.0, 11.0, 10.0, 9.0, 8.0, 7.0, 6.0, 5.0, 4.0, 3.0, 2.0, 1.0, 0.0023, 0.0023, 0.0023, 0.0022, 0.0022, 0.0022, 0.0022, 0.0021, 0.0021, 0.0021, 0.0021, 0.0019, 0.0019, 0.0019, 0.0019, 0.0018, 0.0018, 0.0018, 0.0018, 0.0018, 0.0018, 0.0017, 0.0017, 0.0017, 0.0016, 0.0016, 0.0016, 0.0016, 0.0015, 0.0014, 0.7921, 0.7914, 0.7914, 0.7911, 0.7911, 0.7909, 0.7902, 0.7898, 0.7892, 0.7891, 0.7891, 0.789, 0.7887, 0.7887, 0.7886, 0.7884, 0.7881, 0.7879, 0.7878, 0.7878, 0.7877, 0.7874, 0.7869, 0.7868, 0.7866, 0.7864, 0.7864, 0.7862, 0.7861, 0.7861, 0.786, -3.0651, -3.2443, -2.57, -2.4228, -2.4282, -2.3522, -2.8769, -1.8731, -1.8834, -2.1179, -0.0747, -0.5275, -1.4147, -0.086, -1.4953, -1.4965, -1.8835, -1.3544, -1.1826, -1.0854, -1.2746, -1.2762, -1.5724, -0.7133, -0.0918, -0.3479, -1.1946, -1.2892, -0.9909, -1.5258, -1.3779, -0.7243, -0.727, 0.7862, 0.7838, 0.7831, 0.7829, 0.7827, 0.7827, 0.7827, 0.7826, 0.7826, 0.7825, 0.7823, 0.7823, 0.7822, 0.782, 0.7819, 0.7819, 0.7819, 0.7818, 0.7816, 0.7816, 0.7815, 0.7815, 0.7814, 0.7814, 0.7813, 0.7813, 0.7812, 0.7812, 0.7812, 0.781, 0.7809, 0.7808, -3.2781, -2.8637, -3.4742, -2.7487, -2.5816, -2.5288, -1.5104, -0.5525, -1.3688, -1.901, -2.6573, -2.2139, -2.0412, -2.0424, -1.2996, -1.5313, -1.3039, -0.1066, -1.3911, -1.3094, -0.3686, -1.2226, -1.1243, -1.1251, -1.1258, -1.2245, -1.478, -0.7433, -1.5523, -0.8893, -1.6195, -0.8902]}, \"token.table\": {\"Topic\": [1, 1, 1, 1, 1, 1, 1, 1, 1, 1, 1, 1, 1, 1, 1, 1, 1, 1, 1, 1, 1, 1, 1, 1, 1, 1, 1, 1, 1, 1, 1, 1, 1, 1, 1, 1, 1, 1, 1, 1, 1, 1, 1, 1, 1, 1, 1, 1, 1, 1, 1, 1, 1, 1, 1, 1, 1, 1, 1, 1, 1, 1, 1, 1, 1, 1, 1, 1, 1, 1, 1, 1, 1, 1, 1, 1, 1, 1, 1, 1, 1, 1, 1, 1, 1, 1, 1, 1, 1, 1, 1, 1, 1, 1, 1, 1, 1, 1, 1, 1, 1, 1, 1, 1, 1, 1, 1, 1], \"Freq\": [1.0037049137776857, 0.844382252270327, 0.8460031267338642, 0.8471482489271281, 0.8464958292469535, 0.8443442341661578, 1.0202538304741724, 0.8460490369703876, 0.8440826045819461, 0.8442558936552181, 0.8439823344932706, 0.844038643973807, 0.8462805968865049, 0.8462343977464877, 0.9682058118271064, 0.9238538822018254, 0.9677152134941206, 0.844557082046296, 0.8463853138452502, 0.8460640405090945, 0.8440732701678063, 0.8442207839119242, 0.977071454106383, 0.8440402765142605, 0.8440581515372121, 0.8468636661882091, 1.0191843407970886, 0.8440582943936419, 1.0017893251213748, 1.0180023974461758, 0.8461835594077217, 0.8462279039476059, 0.9496281271293027, 1.0601953607994603, 1.069823925710605, 1.008869245421758, 0.9837067690951352, 1.0449108808659362, 0.8441315212025899, 1.0008089342913262, 0.9245953775422903, 0.9697286941611337, 0.846842117563699, 0.8441709798906738, 0.8449355694127483, 0.8442599491825271, 0.8461036728656177, 0.8438673277908761, 0.8464599271057656, 0.8443403665057309, 0.8439654065936284, 0.9772614975956246, 0.9687991826864675, 0.8465512726049708, 1.0067577131447634, 1.0714000473747685, 0.8439779424489738, 0.9850845629791205, 0.8443345655075283, 1.0193353544215114, 0.8458265926072359, 0.8459959989247796, 0.8441440593754531, 1.0013749505579308, 1.0246133312301784, 0.8461969978642856, 0.8438072992147814, 0.8442933169386214, 1.008821054694829, 0.8464598159701557, 0.8462983864277062, 0.8463683647780175, 1.0044135677950963, 0.8469833545021404, 1.0317861312347176, 1.0724391282877797, 0.8441320118358272, 0.8446471999713184, 1.071609827296763, 0.8464133373398326, 0.9981315751699655, 0.844488078971445, 0.8461850205578035, 0.9854155289670385, 1.01695379380566, 1.0263537636543445, 0.8471757163116214, 0.843851048713695, 0.9251959036045038, 0.8465739841743715, 0.8441909354361559, 0.998464881125691, 0.9889755348380354, 1.0027992995988109, 0.8440046630049833, 1.0258726943465997, 1.0022292064529836, 0.8462669897686022, 0.8444809140118302, 0.8464273038337977, 0.8439866466164151, 0.8465523179814866, 1.0427317659011064, 0.9978990701498638, 0.924161287276989, 0.8470084545576897, 1.0619828699535805, 0.8466541688505647], \"Term\": [\"'\", \".ndings\", \"1-17\", \"10\", \"19\", \"2.\", \"2020\", \"2021\", \"36\", \"=\", \"\\\\n3\", \"\\\\n\\\\n\\\\nfigure\", \"\\\\n\\\\nblockchain\", \"\\\\n\\\\nchandan\", \"\\\\nal.',\", \"\\\\nand\", \"\\\\net\", \"\\\\nin\", \"\\\\nkeywords\", \"\\\\npreeti\", \"\\\\nresearch\", \"\\\\nto\", \"a\", \"academic\", \"acceptance\", \"altered\", \"analysis\", \"analyzing\", \"and\", \"application\", \"application.\", \"applying\", \"areas\", \"article\", \"articles\", \"be\", \"been\", \"bene.ts',\", \"better\", \"blockchain\", \"by\", \"can\", \"centre\", \"chapter\", \"chapters',\", \"clear\", \"collected',\", \"cryptocurrencies\", \"cryptocurrency.\", \"database.\", \"editorials\", \"education\", \"educational\", \"education\\u201d.\", \"for\", \"future\", \"hard\", \"has\", \"hasselgren\", \"icfai\", \"identi.es\", \"identifying\", \"immature\", \"in\", \"is\", \"known\", \"library\", \"list\", \"literature\", \"lot\", \"management:\", \"no.\", \"of\", \"oman\", \"on\", \"paper\", \"papers\", \"peer-reviewed\", \"potential\", \"pp.\", \"present\", \"published\", \"record-keeping\", \"research\", \"retrieved\", \"review\", \"september\", \"started\", \"study\", \"suggested\", \"supply-chain',\", \"systematic\", \"technology\", \"the\", \"things',\", \"this\", \"to\", \"topic\", \"topic.\", \"university)',\", \"vision\", \"vol.\", \"we\", \"were\", \"with\", \"\\u00a9\", \"\\u2013\", \"\\u201cblockchain\"]}, \"R\": 30, \"lambda.step\": 0.01, \"plot.opts\": {\"xlab\": \"PC1\", \"ylab\": \"PC2\"}, \"topic.order\": [2, 1, 3]};\n",
       "\n",
       "function LDAvis_load_lib(url, callback){\n",
       "  var s = document.createElement('script');\n",
       "  s.src = url;\n",
       "  s.async = true;\n",
       "  s.onreadystatechange = s.onload = callback;\n",
       "  s.onerror = function(){console.warn(\"failed to load library \" + url);};\n",
       "  document.getElementsByTagName(\"head\")[0].appendChild(s);\n",
       "}\n",
       "\n",
       "if(typeof(LDAvis) !== \"undefined\"){\n",
       "   // already loaded: just create the visualization\n",
       "   !function(LDAvis){\n",
       "       new LDAvis(\"#\" + \"ldavis_el1482819789431861927742159100\", ldavis_el1482819789431861927742159100_data);\n",
       "   }(LDAvis);\n",
       "}else if(typeof define === \"function\" && define.amd){\n",
       "   // require.js is available: use it to load d3/LDAvis\n",
       "   require.config({paths: {d3: \"https://d3js.org/d3.v5\"}});\n",
       "   require([\"d3\"], function(d3){\n",
       "      window.d3 = d3;\n",
       "      LDAvis_load_lib(\"https://cdn.jsdelivr.net/gh/bmabey/pyLDAvis@3.4.0/pyLDAvis/js/ldavis.v3.0.0.js\", function(){\n",
       "        new LDAvis(\"#\" + \"ldavis_el1482819789431861927742159100\", ldavis_el1482819789431861927742159100_data);\n",
       "      });\n",
       "    });\n",
       "}else{\n",
       "    // require.js not available: dynamically load d3 & LDAvis\n",
       "    LDAvis_load_lib(\"https://d3js.org/d3.v5.js\", function(){\n",
       "         LDAvis_load_lib(\"https://cdn.jsdelivr.net/gh/bmabey/pyLDAvis@3.4.0/pyLDAvis/js/ldavis.v3.0.0.js\", function(){\n",
       "                 new LDAvis(\"#\" + \"ldavis_el1482819789431861927742159100\", ldavis_el1482819789431861927742159100_data);\n",
       "            })\n",
       "         });\n",
       "}\n",
       "</script>"
      ],
      "text/plain": [
       "<IPython.core.display.HTML object>"
      ]
     },
     "execution_count": 31,
     "metadata": {},
     "output_type": "execute_result"
    }
   ],
   "source": [
    "# 輸出主題模型分析結果\n",
    "import pyLDAvis.gensim\n",
    "pyLDAvis.enable_notebook()\n",
    "vis = pyLDAvis.gensim.prepare(lda_model, corpus, dictionary)\n",
    "pyLDAvis.display(vis)"
   ]
  },
  {
   "cell_type": "code",
   "execution_count": null,
   "id": "f9ef5f53",
   "metadata": {},
   "outputs": [],
   "source": []
  }
 ],
 "metadata": {
  "kernelspec": {
   "display_name": "Python 3 (ipykernel)",
   "language": "python",
   "name": "python3"
  },
  "language_info": {
   "codemirror_mode": {
    "name": "ipython",
    "version": 3
   },
   "file_extension": ".py",
   "mimetype": "text/x-python",
   "name": "python",
   "nbconvert_exporter": "python",
   "pygments_lexer": "ipython3",
   "version": "3.9.13"
  }
 },
 "nbformat": 4,
 "nbformat_minor": 5
}
